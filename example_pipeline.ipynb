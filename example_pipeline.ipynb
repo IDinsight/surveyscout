{
 "cells": [
  {
   "cell_type": "code",
   "execution_count": 5,
   "metadata": {},
   "outputs": [],
   "source": [
    "import numpy as np\n",
    "import pandas as pd"
   ]
  },
  {
   "cell_type": "markdown",
   "metadata": {},
   "source": [
    "This notebook will serve as an example to showcase the different flows we will implement. we will generate a dataset of 100 enumerators and 2000 targets and simulate the optimization.\n",
    "\n",
    "# Min distance flow with haversine"
   ]
  },
  {
   "cell_type": "code",
   "execution_count": 6,
   "metadata": {},
   "outputs": [
    {
     "name": "stdout",
     "output_type": "stream",
     "text": [
      "Enumerators DataFrame shape: (100, 3)\n",
      "Targets DataFrame shape: (2000, 3)\n"
     ]
    }
   ],
   "source": [
    "# Set a random seed for reproducibility\n",
    "np.random.seed(0)\n",
    "\n",
    "# Generate 100 enumerators with random latitudes and longitudes\n",
    "enumerator_data = {\n",
    "    \"enum_id\": [f\"E{i+1:03d}\" for i in range(100)],  # Creates IDs like E001, E002, ...\n",
    "    \"enum_lat\": np.random.uniform(-90, 90, 100),  # Random latitudes\n",
    "    \"enum_long\": np.random.uniform(-180, 180, 100),  # Random longitudes\n",
    "}\n",
    "\n",
    "# Generate 2000 targets with random latitudes and longitudes\n",
    "target_data = {\n",
    "    \"target_id\": [\n",
    "        f\"T{i+1:04d}\" for i in range(2000)\n",
    "    ],  # Creates IDs like T0001, T0002, ...\n",
    "    \"target_lat\": np.random.uniform(-90, 90, 2000),  # Random latitudes\n",
    "    \"target_long\": np.random.uniform(-180, 180, 2000),  # Random longitudes\n",
    "}\n",
    "\n",
    "# Create the DataFrames\n",
    "df_enum = pd.DataFrame(enumerator_data)\n",
    "df_target = pd.DataFrame(target_data)\n",
    "\n",
    "# Display the shape of the created DataFrames to confirm the number of rows\n",
    "print(f\"Enumerators DataFrame shape: {df_enum.shape}\")\n",
    "print(f\"Targets DataFrame shape: {df_target.shape}\")"
   ]
  },
  {
   "cell_type": "code",
   "execution_count": 7,
   "metadata": {},
   "outputs": [],
   "source": [
    "from surveyscout.utils import LocationDataset\n",
    "\n",
    "enum_locations = LocationDataset(df_enum, \"enum_id\", \"enum_lat\", \"enum_long\")\n",
    "target_locations = LocationDataset(\n",
    "    df_target, \"target_id\", \"target_lat\", \"target_long\"\n",
    ")"
   ]
  },
  {
   "cell_type": "markdown",
   "metadata": {},
   "source": [
    "### Basic min distance flow with haversine\n",
    "\n",
    "This flow implements the basic min distance model where we specify our parameters and the model will find the optimal results. Here are the parameters of the model:\n",
    "- min_target: The minimum number of targets each enumerator is required to visit.\n",
    "- max_target: The maximum number of targets each enumerator is allowed to visit.\n",
    "- max_cost: The  maximum cost assignable to a surveyor to visit a single target.\n",
    "- max_total_cost:  The initial maximum total cost assignable to a surveyor"
   ]
  },
  {
   "cell_type": "code",
   "execution_count": 8,
   "metadata": {},
   "outputs": [
    {
     "name": "stdout",
     "output_type": "stream",
     "text": [
      "Optimal value:  2142243.4940421954\n"
     ]
    }
   ],
   "source": [
    "from surveyscout.flows import basic_min_distance_flow\n",
    "\n",
    "results = basic_min_distance_flow(\n",
    "    enum_locations=enum_locations,\n",
    "    target_locations=target_locations,\n",
    "    min_target=5,\n",
    "    max_target=30,\n",
    "    max_distance=10000,\n",
    "    max_total_distance=100000,\n",
    ")"
   ]
  },
  {
   "cell_type": "code",
   "execution_count": 9,
   "metadata": {},
   "outputs": [
    {
     "data": {
      "text/html": [
       "<div>\n",
       "<style scoped>\n",
       "    .dataframe tbody tr th:only-of-type {\n",
       "        vertical-align: middle;\n",
       "    }\n",
       "\n",
       "    .dataframe tbody tr th {\n",
       "        vertical-align: top;\n",
       "    }\n",
       "\n",
       "    .dataframe thead th {\n",
       "        text-align: right;\n",
       "    }\n",
       "</style>\n",
       "<table border=\"1\" class=\"dataframe\">\n",
       "  <thead>\n",
       "    <tr style=\"text-align: right;\">\n",
       "      <th></th>\n",
       "      <th>target_id</th>\n",
       "      <th>enum_id</th>\n",
       "      <th>value</th>\n",
       "    </tr>\n",
       "  </thead>\n",
       "  <tbody>\n",
       "    <tr>\n",
       "      <th>0</th>\n",
       "      <td>T0001</td>\n",
       "      <td>E060</td>\n",
       "      <td>1.0</td>\n",
       "    </tr>\n",
       "    <tr>\n",
       "      <th>1</th>\n",
       "      <td>T0002</td>\n",
       "      <td>E063</td>\n",
       "      <td>1.0</td>\n",
       "    </tr>\n",
       "    <tr>\n",
       "      <th>2</th>\n",
       "      <td>T0003</td>\n",
       "      <td>E042</td>\n",
       "      <td>1.0</td>\n",
       "    </tr>\n",
       "    <tr>\n",
       "      <th>3</th>\n",
       "      <td>T0004</td>\n",
       "      <td>E061</td>\n",
       "      <td>1.0</td>\n",
       "    </tr>\n",
       "    <tr>\n",
       "      <th>4</th>\n",
       "      <td>T0005</td>\n",
       "      <td>E035</td>\n",
       "      <td>1.0</td>\n",
       "    </tr>\n",
       "  </tbody>\n",
       "</table>\n",
       "</div>"
      ],
      "text/plain": [
       "  target_id enum_id  value\n",
       "0     T0001    E060    1.0\n",
       "1     T0002    E063    1.0\n",
       "2     T0003    E042    1.0\n",
       "3     T0004    E061    1.0\n",
       "4     T0005    E035    1.0"
      ]
     },
     "execution_count": 9,
     "metadata": {},
     "output_type": "execute_result"
    }
   ],
   "source": [
    "results.head()"
   ]
  },
  {
   "cell_type": "markdown",
   "metadata": {},
   "source": [
    "### Recursive min distance flow with haversine\n",
    "This flow allows to recursively update parameters  until we reach a solution. \n",
    "The parameters are as follow:\n",
    "- min_target: The minimum number of targets each enumerator is required to visit.\n",
    "- max_target: The maximum number of targets each enumerator is allowed to visit.\n",
    "- max_cost: The  maximum cost assignable to a surveyor to visit a single target.\n",
    "- max_total_cost:  The initial maximum total cost assignable to a surveyor\n",
    "- max_perc: The initial percentile to determine the maximum surveyor-to-target cost (default is 80).\n",
    "- param_increment: The value by which the parameter bounds and percentiles are adjusted during the recursion if no solution is found (default is 5)."
   ]
  },
  {
   "cell_type": "code",
   "execution_count": 11,
   "metadata": {},
   "outputs": [
    {
     "name": "stdout",
     "output_type": "stream",
     "text": [
      "Optimal value:  2244424.350659192\n"
     ]
    }
   ],
   "source": [
    "from surveyscout.flows import recursive_min_distance_flow\n",
    "\n",
    "results_df, params = recursive_min_distance_flow(\n",
    "    enum_locations=enum_locations,\n",
    "    target_locations=target_locations,\n",
    "    min_target=15,\n",
    "    max_target=35,\n",
    "    max_distance=10000,\n",
    "    max_total_distance=100000,\n",
    "    param_increment=5,\n",
    ")"
   ]
  },
  {
   "cell_type": "code",
   "execution_count": 12,
   "metadata": {},
   "outputs": [
    {
     "name": "stdout",
     "output_type": "stream",
     "text": [
      "{'min_target': 15, 'max_target': 35, 'max_cost': 10000, 'max_total_cost': 100000}\n"
     ]
    }
   ],
   "source": [
    "print(params)"
   ]
  },
  {
   "cell_type": "code",
   "execution_count": 8,
   "metadata": {},
   "outputs": [
    {
     "data": {
      "text/html": [
       "<div>\n",
       "<style scoped>\n",
       "    .dataframe tbody tr th:only-of-type {\n",
       "        vertical-align: middle;\n",
       "    }\n",
       "\n",
       "    .dataframe tbody tr th {\n",
       "        vertical-align: top;\n",
       "    }\n",
       "\n",
       "    .dataframe thead th {\n",
       "        text-align: right;\n",
       "    }\n",
       "</style>\n",
       "<table border=\"1\" class=\"dataframe\">\n",
       "  <thead>\n",
       "    <tr style=\"text-align: right;\">\n",
       "      <th></th>\n",
       "      <th>target_id</th>\n",
       "      <th>enum_id</th>\n",
       "      <th>value</th>\n",
       "    </tr>\n",
       "  </thead>\n",
       "  <tbody>\n",
       "    <tr>\n",
       "      <th>0</th>\n",
       "      <td>T0001</td>\n",
       "      <td>E047</td>\n",
       "      <td>1.0</td>\n",
       "    </tr>\n",
       "    <tr>\n",
       "      <th>1</th>\n",
       "      <td>T0002</td>\n",
       "      <td>E063</td>\n",
       "      <td>1.0</td>\n",
       "    </tr>\n",
       "    <tr>\n",
       "      <th>2</th>\n",
       "      <td>T0003</td>\n",
       "      <td>E042</td>\n",
       "      <td>1.0</td>\n",
       "    </tr>\n",
       "    <tr>\n",
       "      <th>3</th>\n",
       "      <td>T0004</td>\n",
       "      <td>E031</td>\n",
       "      <td>1.0</td>\n",
       "    </tr>\n",
       "    <tr>\n",
       "      <th>4</th>\n",
       "      <td>T0005</td>\n",
       "      <td>E035</td>\n",
       "      <td>1.0</td>\n",
       "    </tr>\n",
       "  </tbody>\n",
       "</table>\n",
       "</div>"
      ],
      "text/plain": [
       "  target_id enum_id  value\n",
       "0     T0001    E047    1.0\n",
       "1     T0002    E063    1.0\n",
       "2     T0003    E042    1.0\n",
       "3     T0004    E031    1.0\n",
       "4     T0005    E035    1.0"
      ]
     },
     "execution_count": 8,
     "metadata": {},
     "output_type": "execute_result"
    }
   ],
   "source": [
    "results_df.head()"
   ]
  },
  {
   "cell_type": "markdown",
   "metadata": {},
   "source": [
    "# Routed Min distance flow\n",
    "\n",
    "We will generate random enumerators and targets data in the city of Chenna in India"
   ]
  },
  {
   "cell_type": "code",
   "execution_count": 9,
   "metadata": {},
   "outputs": [
    {
     "name": "stdout",
     "output_type": "stream",
     "text": [
      "Enumerators DataFrame shape: (10, 3)\n",
      "Targets DataFrame shape: (200, 3)\n"
     ]
    }
   ],
   "source": [
    "# Set a random seed for reproducibility\n",
    "np.random.seed(22)\n",
    "# Define the boundaries of Tamil Nadu (approximate)\n",
    "min_lat = 12.9190\n",
    "max_lat = 13.2400\n",
    "min_lon = 80.1234\n",
    "max_lon = 80.3220\n",
    "\n",
    "\n",
    "# Generate 100 enumerators with random latitudes and longitudes\n",
    "enumerator_data = {\n",
    "    \"enum_id\": [f\"E{i+1:03d}\" for i in range(10)],  # Creates IDs like E001, E002, ...\n",
    "    \"enum_lat\": np.random.uniform(min_lat, max_lat, 10), \n",
    "    \"enum_long\": np.random.uniform(min_lon, max_lon, 10), \n",
    "}\n",
    "\n",
    "# Generate 2000 targets with random latitudes and longitudes\n",
    "target_data = {\n",
    "    \"target_id\": [\n",
    "        f\"T{i+1:04d}\" for i in range(200)\n",
    "    ],  # Creates IDs like T0001, T0002, ...\n",
    "    \"target_lat\": np.random.uniform(min_lat, max_lat, 200),  \n",
    "    \"target_long\": np.random.uniform(min_lon, max_lon, 200), \n",
    "}\n",
    "\n",
    "# Create the DataFrames\n",
    "df_enum = pd.DataFrame(enumerator_data)\n",
    "df_target = pd.DataFrame(target_data)\n",
    "\n",
    "# Display the shape of the created DataFrames to confirm the number of rows\n",
    "print(f\"Enumerators DataFrame shape: {df_enum.shape}\")\n",
    "print(f\"Targets DataFrame shape: {df_target.shape}\")"
   ]
  },
  {
   "cell_type": "markdown",
   "metadata": {},
   "source": [
    "### Min  distance flow with OSRM\n",
    "To use OSRM we will specify one more parameter:\n",
    "- routing: The API used to get the route distance between points. Can be either 'google' or 'OSRM'"
   ]
  },
  {
   "cell_type": "code",
   "execution_count": 11,
   "metadata": {},
   "outputs": [
    {
     "name": "stdout",
     "output_type": "stream",
     "text": [
      "Optimal value:  1314.2251\n"
     ]
    }
   ],
   "source": [
    "from surveyscout.flows import basic_routed_min_distance_flow\n",
    "\n",
    "enum_locations = LocationDataset(df_enum, \"enum_id\", \"enum_lat\", \"enum_long\")\n",
    "target_locations = LocationDataset(\n",
    "    df_target, \"target_id\", \"target_lat\", \"target_long\"\n",
    ")\n",
    "results = basic_routed_min_distance_flow(\n",
    "    enum_locations=enum_locations,\n",
    "    target_locations=target_locations,\n",
    "    min_target=5,\n",
    "    max_target=30,\n",
    "    max_distance=100,\n",
    "    max_total_distance=1000,\n",
    "    routing=\"osrm\",\n",
    ")"
   ]
  },
  {
   "cell_type": "code",
   "execution_count": 17,
   "metadata": {},
   "outputs": [
    {
     "data": {
      "text/html": [
       "<div>\n",
       "<style scoped>\n",
       "    .dataframe tbody tr th:only-of-type {\n",
       "        vertical-align: middle;\n",
       "    }\n",
       "\n",
       "    .dataframe tbody tr th {\n",
       "        vertical-align: top;\n",
       "    }\n",
       "\n",
       "    .dataframe thead th {\n",
       "        text-align: right;\n",
       "    }\n",
       "</style>\n",
       "<table border=\"1\" class=\"dataframe\">\n",
       "  <thead>\n",
       "    <tr style=\"text-align: right;\">\n",
       "      <th></th>\n",
       "      <th>target_id</th>\n",
       "      <th>enum_id</th>\n",
       "      <th>value</th>\n",
       "    </tr>\n",
       "  </thead>\n",
       "  <tbody>\n",
       "    <tr>\n",
       "      <th>0</th>\n",
       "      <td>T0001</td>\n",
       "      <td>E010</td>\n",
       "      <td>1.0</td>\n",
       "    </tr>\n",
       "    <tr>\n",
       "      <th>1</th>\n",
       "      <td>T0002</td>\n",
       "      <td>E004</td>\n",
       "      <td>1.0</td>\n",
       "    </tr>\n",
       "    <tr>\n",
       "      <th>2</th>\n",
       "      <td>T0003</td>\n",
       "      <td>E006</td>\n",
       "      <td>1.0</td>\n",
       "    </tr>\n",
       "    <tr>\n",
       "      <th>3</th>\n",
       "      <td>T0004</td>\n",
       "      <td>E002</td>\n",
       "      <td>1.0</td>\n",
       "    </tr>\n",
       "    <tr>\n",
       "      <th>4</th>\n",
       "      <td>T0005</td>\n",
       "      <td>E003</td>\n",
       "      <td>1.0</td>\n",
       "    </tr>\n",
       "  </tbody>\n",
       "</table>\n",
       "</div>"
      ],
      "text/plain": [
       "  target_id enum_id  value\n",
       "0     T0001    E010    1.0\n",
       "1     T0002    E004    1.0\n",
       "2     T0003    E006    1.0\n",
       "3     T0004    E002    1.0\n",
       "4     T0005    E003    1.0"
      ]
     },
     "execution_count": 17,
     "metadata": {},
     "output_type": "execute_result"
    }
   ],
   "source": [
    "results.head()"
   ]
  },
  {
   "cell_type": "markdown",
   "metadata": {},
   "source": [
    "### Recursive min distance Flow with OSRM\n",
    "This flow has the same parameters as the recursive haversine min distance flow but with one more parameter:\n",
    "- routing: The API used to get the route distance between points. Can be either 'google' or 'OSRM'"
   ]
  },
  {
   "cell_type": "code",
   "execution_count": 13,
   "metadata": {},
   "outputs": [
    {
     "ename": "ConnectionError",
     "evalue": "HTTPConnectionPool(host='localhost', port=5001): Max retries exceeded with url: /table/v1/driving/-143.25417751710535,-33.87674124106154;64.01395324664284,8.786430706918452;-82.79712965082065,38.73408594703551;84.66984796413414,18.49740769289589;166.38787624227774,8.078972939441442;-90.44886833281511,-13.742136118997152;27.416640390421293,26.2609403519981;33.13509525786205,-11.234301972715343;26.010686084714422,70.51914014077437;-99.69061224937741,83.45929689018527;162.98964414611459,-20.98052661136002;-19.034863697654146,52.51050685487962;124.707122089606,5.201085555522809;71.81253911430156,12.248020996907812;-72.92269769215189,76.607394892679;112.96721509289182,-77.21350952438036;-37.257933295085536,-74.31672605372268;137.19715096001818,-86.36068846074137;29.25823414890914,59.871572198628826;137.424730267747,50.068215170973076;69.3113724279957,66.60218668442744;81.09154073507057,86.15130160189753;0.47677749361281485,53.84854155901024;164.19010850036062,-6.933714794472266;51.83647172266947,50.49525173156198;-27.412182519055307,-68.71060334359203;38.30155708605275,25.185783838954293;-173.09044860863992,-64.19640826637165;-71.43306599716225,80.04040506892511;57.66247349736662,3.932697915012895;-75.57206140424013,-15.360850801705752;42.485554439582955,-42.37998982116714;-25.643267659524184,49.36206409815901;-131.22933687991792,-7.892940201021261;-72.61836265582892,12.318110796356734;25.187367852455367,-86.61783592145608;32.71419404934235,21.174389473657868;26.757089585848377,20.17723009003585;55.1522951485681,21.04811943745625;54.757177200608,79.87465413263234;-24.689363243769378,32.72765383862702;142.75677450638267,-25.28857789671852;-47.67772678275725,-11.334248316118533;-23.088626904374337,35.57361526690768;141.09240780564198,-79.15941510673143;110.22983605659084,30.018008780220185;73.39989007453187,30.714816531268696;-143.91832056757158,-52.131139006708636;151.0137409480825,-66.79326642212641;77.1268678376801,-33.22289683364691;179.58492236443192,-24.532061230327926;-126.19861032312225,12.635418675218332;132.52538065255715,-11.05172757678234;-121.50254351650506,87.9072908506607;41.60144314218391,-71.63193406535495;-135.42480617420105,-52.40218390292976;125.2829625560044,-60.964286780700675;110.63482514100383,27.559498583771713;24.87626590125359,-44.40751154283922;-33.41401299864012,-6.064060885864862;-155.09988163615031,-46.00339343971151;71.07435833204292,-61.38547494380645;-16.724634235895223,-70.13247459042508;79.94001580932525,28.139326103749212;131.89763733430652,-65.12706875724952;171.1877418010389,-54.61517489759037;128.08920326133995,-23.62946928102646;-175.7829296933993,57.778781372628316;-50.407896787789014,-72.52177035724897;82.79660247266088,60.8300833497847;-118.21331618588141,-72.70228657908665;7.573178233486544,85.76270370241124;-160.4383241978687,-5.642783703413713;-108.00125103729597,85.8169958742607;-173.33215399417898,18.87219355410828;105.73117320867141,43.0674442916943;-99.38711229826315,-82.94619739422228;-55.673394949115036,-39.09474673624628;154.1092656476127,-68.3646189816296;73.5891846924718,-36.69476444601391;-168.53798536872918,-68.62901058823607;-120.71010366075141,-32.76302770908431;43.73222453991488,-15.432660987359412;27.80229189750034,-78.45345065721881;-94.35858430517689,34.64498148660357;156.31703925292578,11.988261757183523;41.02774414772256,-42.22989163089983;12.827809088984992,4.184649624005942;32.36759148764554,-73.09070806348049;82.84393062603709,13.670369200112276;-67.69980162734333,77.27331556371854;-36.640417602206924,-32.65758855876174;-104.45625036895603,30.133868393462706;-112.97051788307898,-66.27638476720941;159.9740603942161,38.93889674134181;86.23828621774351,-37.9069032695038;-3.4348288976758568,-57.02555483871897;-98.13073392960364,15.572328265814974;-88.43166656265853,-86.38064168625117;-159.10950228340477,59.209205259125355;-23.61001479907651,-89.15481428534153?sources=0&annotations=distance,duration (Caused by NewConnectionError('<urllib3.connection.HTTPConnection object at 0x11f444100>: Failed to establish a new connection: [Errno 61] Connection refused'))",
     "output_type": "error",
     "traceback": [
      "\u001b[0;31m---------------------------------------------------------------------------\u001b[0m",
      "\u001b[0;31mConnectionRefusedError\u001b[0m                    Traceback (most recent call last)",
      "File \u001b[0;32m~/anaconda3/envs/surveysparrow/lib/python3.10/site-packages/urllib3/connection.py:198\u001b[0m, in \u001b[0;36mHTTPConnection._new_conn\u001b[0;34m(self)\u001b[0m\n\u001b[1;32m    197\u001b[0m \u001b[38;5;28;01mtry\u001b[39;00m:\n\u001b[0;32m--> 198\u001b[0m     sock \u001b[38;5;241m=\u001b[39m \u001b[43mconnection\u001b[49m\u001b[38;5;241;43m.\u001b[39;49m\u001b[43mcreate_connection\u001b[49m\u001b[43m(\u001b[49m\n\u001b[1;32m    199\u001b[0m \u001b[43m        \u001b[49m\u001b[43m(\u001b[49m\u001b[38;5;28;43mself\u001b[39;49m\u001b[38;5;241;43m.\u001b[39;49m\u001b[43m_dns_host\u001b[49m\u001b[43m,\u001b[49m\u001b[43m \u001b[49m\u001b[38;5;28;43mself\u001b[39;49m\u001b[38;5;241;43m.\u001b[39;49m\u001b[43mport\u001b[49m\u001b[43m)\u001b[49m\u001b[43m,\u001b[49m\n\u001b[1;32m    200\u001b[0m \u001b[43m        \u001b[49m\u001b[38;5;28;43mself\u001b[39;49m\u001b[38;5;241;43m.\u001b[39;49m\u001b[43mtimeout\u001b[49m\u001b[43m,\u001b[49m\n\u001b[1;32m    201\u001b[0m \u001b[43m        \u001b[49m\u001b[43msource_address\u001b[49m\u001b[38;5;241;43m=\u001b[39;49m\u001b[38;5;28;43mself\u001b[39;49m\u001b[38;5;241;43m.\u001b[39;49m\u001b[43msource_address\u001b[49m\u001b[43m,\u001b[49m\n\u001b[1;32m    202\u001b[0m \u001b[43m        \u001b[49m\u001b[43msocket_options\u001b[49m\u001b[38;5;241;43m=\u001b[39;49m\u001b[38;5;28;43mself\u001b[39;49m\u001b[38;5;241;43m.\u001b[39;49m\u001b[43msocket_options\u001b[49m\u001b[43m,\u001b[49m\n\u001b[1;32m    203\u001b[0m \u001b[43m    \u001b[49m\u001b[43m)\u001b[49m\n\u001b[1;32m    204\u001b[0m \u001b[38;5;28;01mexcept\u001b[39;00m socket\u001b[38;5;241m.\u001b[39mgaierror \u001b[38;5;28;01mas\u001b[39;00m e:\n",
      "File \u001b[0;32m~/anaconda3/envs/surveysparrow/lib/python3.10/site-packages/urllib3/util/connection.py:85\u001b[0m, in \u001b[0;36mcreate_connection\u001b[0;34m(address, timeout, source_address, socket_options)\u001b[0m\n\u001b[1;32m     84\u001b[0m \u001b[38;5;28;01mtry\u001b[39;00m:\n\u001b[0;32m---> 85\u001b[0m     \u001b[38;5;28;01mraise\u001b[39;00m err\n\u001b[1;32m     86\u001b[0m \u001b[38;5;28;01mfinally\u001b[39;00m:\n\u001b[1;32m     87\u001b[0m     \u001b[38;5;66;03m# Break explicitly a reference cycle\u001b[39;00m\n",
      "File \u001b[0;32m~/anaconda3/envs/surveysparrow/lib/python3.10/site-packages/urllib3/util/connection.py:73\u001b[0m, in \u001b[0;36mcreate_connection\u001b[0;34m(address, timeout, source_address, socket_options)\u001b[0m\n\u001b[1;32m     72\u001b[0m     sock\u001b[38;5;241m.\u001b[39mbind(source_address)\n\u001b[0;32m---> 73\u001b[0m \u001b[43msock\u001b[49m\u001b[38;5;241;43m.\u001b[39;49m\u001b[43mconnect\u001b[49m\u001b[43m(\u001b[49m\u001b[43msa\u001b[49m\u001b[43m)\u001b[49m\n\u001b[1;32m     74\u001b[0m \u001b[38;5;66;03m# Break explicitly a reference cycle\u001b[39;00m\n",
      "\u001b[0;31mConnectionRefusedError\u001b[0m: [Errno 61] Connection refused",
      "\nThe above exception was the direct cause of the following exception:\n",
      "\u001b[0;31mNewConnectionError\u001b[0m                        Traceback (most recent call last)",
      "File \u001b[0;32m~/anaconda3/envs/surveysparrow/lib/python3.10/site-packages/urllib3/connectionpool.py:793\u001b[0m, in \u001b[0;36mHTTPConnectionPool.urlopen\u001b[0;34m(self, method, url, body, headers, retries, redirect, assert_same_host, timeout, pool_timeout, release_conn, chunked, body_pos, preload_content, decode_content, **response_kw)\u001b[0m\n\u001b[1;32m    792\u001b[0m \u001b[38;5;66;03m# Make the request on the HTTPConnection object\u001b[39;00m\n\u001b[0;32m--> 793\u001b[0m response \u001b[38;5;241m=\u001b[39m \u001b[38;5;28;43mself\u001b[39;49m\u001b[38;5;241;43m.\u001b[39;49m\u001b[43m_make_request\u001b[49m\u001b[43m(\u001b[49m\n\u001b[1;32m    794\u001b[0m \u001b[43m    \u001b[49m\u001b[43mconn\u001b[49m\u001b[43m,\u001b[49m\n\u001b[1;32m    795\u001b[0m \u001b[43m    \u001b[49m\u001b[43mmethod\u001b[49m\u001b[43m,\u001b[49m\n\u001b[1;32m    796\u001b[0m \u001b[43m    \u001b[49m\u001b[43murl\u001b[49m\u001b[43m,\u001b[49m\n\u001b[1;32m    797\u001b[0m \u001b[43m    \u001b[49m\u001b[43mtimeout\u001b[49m\u001b[38;5;241;43m=\u001b[39;49m\u001b[43mtimeout_obj\u001b[49m\u001b[43m,\u001b[49m\n\u001b[1;32m    798\u001b[0m \u001b[43m    \u001b[49m\u001b[43mbody\u001b[49m\u001b[38;5;241;43m=\u001b[39;49m\u001b[43mbody\u001b[49m\u001b[43m,\u001b[49m\n\u001b[1;32m    799\u001b[0m \u001b[43m    \u001b[49m\u001b[43mheaders\u001b[49m\u001b[38;5;241;43m=\u001b[39;49m\u001b[43mheaders\u001b[49m\u001b[43m,\u001b[49m\n\u001b[1;32m    800\u001b[0m \u001b[43m    \u001b[49m\u001b[43mchunked\u001b[49m\u001b[38;5;241;43m=\u001b[39;49m\u001b[43mchunked\u001b[49m\u001b[43m,\u001b[49m\n\u001b[1;32m    801\u001b[0m \u001b[43m    \u001b[49m\u001b[43mretries\u001b[49m\u001b[38;5;241;43m=\u001b[39;49m\u001b[43mretries\u001b[49m\u001b[43m,\u001b[49m\n\u001b[1;32m    802\u001b[0m \u001b[43m    \u001b[49m\u001b[43mresponse_conn\u001b[49m\u001b[38;5;241;43m=\u001b[39;49m\u001b[43mresponse_conn\u001b[49m\u001b[43m,\u001b[49m\n\u001b[1;32m    803\u001b[0m \u001b[43m    \u001b[49m\u001b[43mpreload_content\u001b[49m\u001b[38;5;241;43m=\u001b[39;49m\u001b[43mpreload_content\u001b[49m\u001b[43m,\u001b[49m\n\u001b[1;32m    804\u001b[0m \u001b[43m    \u001b[49m\u001b[43mdecode_content\u001b[49m\u001b[38;5;241;43m=\u001b[39;49m\u001b[43mdecode_content\u001b[49m\u001b[43m,\u001b[49m\n\u001b[1;32m    805\u001b[0m \u001b[43m    \u001b[49m\u001b[38;5;241;43m*\u001b[39;49m\u001b[38;5;241;43m*\u001b[39;49m\u001b[43mresponse_kw\u001b[49m\u001b[43m,\u001b[49m\n\u001b[1;32m    806\u001b[0m \u001b[43m\u001b[49m\u001b[43m)\u001b[49m\n\u001b[1;32m    808\u001b[0m \u001b[38;5;66;03m# Everything went great!\u001b[39;00m\n",
      "File \u001b[0;32m~/anaconda3/envs/surveysparrow/lib/python3.10/site-packages/urllib3/connectionpool.py:496\u001b[0m, in \u001b[0;36mHTTPConnectionPool._make_request\u001b[0;34m(self, conn, method, url, body, headers, retries, timeout, chunked, response_conn, preload_content, decode_content, enforce_content_length)\u001b[0m\n\u001b[1;32m    495\u001b[0m \u001b[38;5;28;01mtry\u001b[39;00m:\n\u001b[0;32m--> 496\u001b[0m     \u001b[43mconn\u001b[49m\u001b[38;5;241;43m.\u001b[39;49m\u001b[43mrequest\u001b[49m\u001b[43m(\u001b[49m\n\u001b[1;32m    497\u001b[0m \u001b[43m        \u001b[49m\u001b[43mmethod\u001b[49m\u001b[43m,\u001b[49m\n\u001b[1;32m    498\u001b[0m \u001b[43m        \u001b[49m\u001b[43murl\u001b[49m\u001b[43m,\u001b[49m\n\u001b[1;32m    499\u001b[0m \u001b[43m        \u001b[49m\u001b[43mbody\u001b[49m\u001b[38;5;241;43m=\u001b[39;49m\u001b[43mbody\u001b[49m\u001b[43m,\u001b[49m\n\u001b[1;32m    500\u001b[0m \u001b[43m        \u001b[49m\u001b[43mheaders\u001b[49m\u001b[38;5;241;43m=\u001b[39;49m\u001b[43mheaders\u001b[49m\u001b[43m,\u001b[49m\n\u001b[1;32m    501\u001b[0m \u001b[43m        \u001b[49m\u001b[43mchunked\u001b[49m\u001b[38;5;241;43m=\u001b[39;49m\u001b[43mchunked\u001b[49m\u001b[43m,\u001b[49m\n\u001b[1;32m    502\u001b[0m \u001b[43m        \u001b[49m\u001b[43mpreload_content\u001b[49m\u001b[38;5;241;43m=\u001b[39;49m\u001b[43mpreload_content\u001b[49m\u001b[43m,\u001b[49m\n\u001b[1;32m    503\u001b[0m \u001b[43m        \u001b[49m\u001b[43mdecode_content\u001b[49m\u001b[38;5;241;43m=\u001b[39;49m\u001b[43mdecode_content\u001b[49m\u001b[43m,\u001b[49m\n\u001b[1;32m    504\u001b[0m \u001b[43m        \u001b[49m\u001b[43menforce_content_length\u001b[49m\u001b[38;5;241;43m=\u001b[39;49m\u001b[43menforce_content_length\u001b[49m\u001b[43m,\u001b[49m\n\u001b[1;32m    505\u001b[0m \u001b[43m    \u001b[49m\u001b[43m)\u001b[49m\n\u001b[1;32m    507\u001b[0m \u001b[38;5;66;03m# We are swallowing BrokenPipeError (errno.EPIPE) since the server is\u001b[39;00m\n\u001b[1;32m    508\u001b[0m \u001b[38;5;66;03m# legitimately able to close the connection after sending a valid response.\u001b[39;00m\n\u001b[1;32m    509\u001b[0m \u001b[38;5;66;03m# With this behaviour, the received response is still readable.\u001b[39;00m\n",
      "File \u001b[0;32m~/anaconda3/envs/surveysparrow/lib/python3.10/site-packages/urllib3/connection.py:400\u001b[0m, in \u001b[0;36mHTTPConnection.request\u001b[0;34m(self, method, url, body, headers, chunked, preload_content, decode_content, enforce_content_length)\u001b[0m\n\u001b[1;32m    399\u001b[0m     \u001b[38;5;28mself\u001b[39m\u001b[38;5;241m.\u001b[39mputheader(header, value)\n\u001b[0;32m--> 400\u001b[0m \u001b[38;5;28;43mself\u001b[39;49m\u001b[38;5;241;43m.\u001b[39;49m\u001b[43mendheaders\u001b[49m\u001b[43m(\u001b[49m\u001b[43m)\u001b[49m\n\u001b[1;32m    402\u001b[0m \u001b[38;5;66;03m# If we're given a body we start sending that in chunks.\u001b[39;00m\n",
      "File \u001b[0;32m~/anaconda3/envs/surveysparrow/lib/python3.10/http/client.py:1278\u001b[0m, in \u001b[0;36mHTTPConnection.endheaders\u001b[0;34m(self, message_body, encode_chunked)\u001b[0m\n\u001b[1;32m   1277\u001b[0m     \u001b[38;5;28;01mraise\u001b[39;00m CannotSendHeader()\n\u001b[0;32m-> 1278\u001b[0m \u001b[38;5;28;43mself\u001b[39;49m\u001b[38;5;241;43m.\u001b[39;49m\u001b[43m_send_output\u001b[49m\u001b[43m(\u001b[49m\u001b[43mmessage_body\u001b[49m\u001b[43m,\u001b[49m\u001b[43m \u001b[49m\u001b[43mencode_chunked\u001b[49m\u001b[38;5;241;43m=\u001b[39;49m\u001b[43mencode_chunked\u001b[49m\u001b[43m)\u001b[49m\n",
      "File \u001b[0;32m~/anaconda3/envs/surveysparrow/lib/python3.10/http/client.py:1038\u001b[0m, in \u001b[0;36mHTTPConnection._send_output\u001b[0;34m(self, message_body, encode_chunked)\u001b[0m\n\u001b[1;32m   1037\u001b[0m \u001b[38;5;28;01mdel\u001b[39;00m \u001b[38;5;28mself\u001b[39m\u001b[38;5;241m.\u001b[39m_buffer[:]\n\u001b[0;32m-> 1038\u001b[0m \u001b[38;5;28;43mself\u001b[39;49m\u001b[38;5;241;43m.\u001b[39;49m\u001b[43msend\u001b[49m\u001b[43m(\u001b[49m\u001b[43mmsg\u001b[49m\u001b[43m)\u001b[49m\n\u001b[1;32m   1040\u001b[0m \u001b[38;5;28;01mif\u001b[39;00m message_body \u001b[38;5;129;01mis\u001b[39;00m \u001b[38;5;129;01mnot\u001b[39;00m \u001b[38;5;28;01mNone\u001b[39;00m:\n\u001b[1;32m   1041\u001b[0m \n\u001b[1;32m   1042\u001b[0m     \u001b[38;5;66;03m# create a consistent interface to message_body\u001b[39;00m\n",
      "File \u001b[0;32m~/anaconda3/envs/surveysparrow/lib/python3.10/http/client.py:976\u001b[0m, in \u001b[0;36mHTTPConnection.send\u001b[0;34m(self, data)\u001b[0m\n\u001b[1;32m    975\u001b[0m \u001b[38;5;28;01mif\u001b[39;00m \u001b[38;5;28mself\u001b[39m\u001b[38;5;241m.\u001b[39mauto_open:\n\u001b[0;32m--> 976\u001b[0m     \u001b[38;5;28;43mself\u001b[39;49m\u001b[38;5;241;43m.\u001b[39;49m\u001b[43mconnect\u001b[49m\u001b[43m(\u001b[49m\u001b[43m)\u001b[49m\n\u001b[1;32m    977\u001b[0m \u001b[38;5;28;01melse\u001b[39;00m:\n",
      "File \u001b[0;32m~/anaconda3/envs/surveysparrow/lib/python3.10/site-packages/urllib3/connection.py:238\u001b[0m, in \u001b[0;36mHTTPConnection.connect\u001b[0;34m(self)\u001b[0m\n\u001b[1;32m    237\u001b[0m \u001b[38;5;28;01mdef\u001b[39;00m \u001b[38;5;21mconnect\u001b[39m(\u001b[38;5;28mself\u001b[39m) \u001b[38;5;241m-\u001b[39m\u001b[38;5;241m>\u001b[39m \u001b[38;5;28;01mNone\u001b[39;00m:\n\u001b[0;32m--> 238\u001b[0m     \u001b[38;5;28mself\u001b[39m\u001b[38;5;241m.\u001b[39msock \u001b[38;5;241m=\u001b[39m \u001b[38;5;28;43mself\u001b[39;49m\u001b[38;5;241;43m.\u001b[39;49m\u001b[43m_new_conn\u001b[49m\u001b[43m(\u001b[49m\u001b[43m)\u001b[49m\n\u001b[1;32m    239\u001b[0m     \u001b[38;5;28;01mif\u001b[39;00m \u001b[38;5;28mself\u001b[39m\u001b[38;5;241m.\u001b[39m_tunnel_host:\n\u001b[1;32m    240\u001b[0m         \u001b[38;5;66;03m# If we're tunneling it means we're connected to our proxy.\u001b[39;00m\n",
      "File \u001b[0;32m~/anaconda3/envs/surveysparrow/lib/python3.10/site-packages/urllib3/connection.py:213\u001b[0m, in \u001b[0;36mHTTPConnection._new_conn\u001b[0;34m(self)\u001b[0m\n\u001b[1;32m    212\u001b[0m \u001b[38;5;28;01mexcept\u001b[39;00m \u001b[38;5;167;01mOSError\u001b[39;00m \u001b[38;5;28;01mas\u001b[39;00m e:\n\u001b[0;32m--> 213\u001b[0m     \u001b[38;5;28;01mraise\u001b[39;00m NewConnectionError(\n\u001b[1;32m    214\u001b[0m         \u001b[38;5;28mself\u001b[39m, \u001b[38;5;124mf\u001b[39m\u001b[38;5;124m\"\u001b[39m\u001b[38;5;124mFailed to establish a new connection: \u001b[39m\u001b[38;5;132;01m{\u001b[39;00me\u001b[38;5;132;01m}\u001b[39;00m\u001b[38;5;124m\"\u001b[39m\n\u001b[1;32m    215\u001b[0m     ) \u001b[38;5;28;01mfrom\u001b[39;00m \u001b[38;5;21;01me\u001b[39;00m\n\u001b[1;32m    217\u001b[0m \u001b[38;5;66;03m# Audit hooks are only available in Python 3.8+\u001b[39;00m\n",
      "\u001b[0;31mNewConnectionError\u001b[0m: <urllib3.connection.HTTPConnection object at 0x11f444100>: Failed to establish a new connection: [Errno 61] Connection refused",
      "\nThe above exception was the direct cause of the following exception:\n",
      "\u001b[0;31mMaxRetryError\u001b[0m                             Traceback (most recent call last)",
      "File \u001b[0;32m~/anaconda3/envs/surveysparrow/lib/python3.10/site-packages/requests/adapters.py:486\u001b[0m, in \u001b[0;36mHTTPAdapter.send\u001b[0;34m(self, request, stream, timeout, verify, cert, proxies)\u001b[0m\n\u001b[1;32m    485\u001b[0m \u001b[38;5;28;01mtry\u001b[39;00m:\n\u001b[0;32m--> 486\u001b[0m     resp \u001b[38;5;241m=\u001b[39m \u001b[43mconn\u001b[49m\u001b[38;5;241;43m.\u001b[39;49m\u001b[43murlopen\u001b[49m\u001b[43m(\u001b[49m\n\u001b[1;32m    487\u001b[0m \u001b[43m        \u001b[49m\u001b[43mmethod\u001b[49m\u001b[38;5;241;43m=\u001b[39;49m\u001b[43mrequest\u001b[49m\u001b[38;5;241;43m.\u001b[39;49m\u001b[43mmethod\u001b[49m\u001b[43m,\u001b[49m\n\u001b[1;32m    488\u001b[0m \u001b[43m        \u001b[49m\u001b[43murl\u001b[49m\u001b[38;5;241;43m=\u001b[39;49m\u001b[43murl\u001b[49m\u001b[43m,\u001b[49m\n\u001b[1;32m    489\u001b[0m \u001b[43m        \u001b[49m\u001b[43mbody\u001b[49m\u001b[38;5;241;43m=\u001b[39;49m\u001b[43mrequest\u001b[49m\u001b[38;5;241;43m.\u001b[39;49m\u001b[43mbody\u001b[49m\u001b[43m,\u001b[49m\n\u001b[1;32m    490\u001b[0m \u001b[43m        \u001b[49m\u001b[43mheaders\u001b[49m\u001b[38;5;241;43m=\u001b[39;49m\u001b[43mrequest\u001b[49m\u001b[38;5;241;43m.\u001b[39;49m\u001b[43mheaders\u001b[49m\u001b[43m,\u001b[49m\n\u001b[1;32m    491\u001b[0m \u001b[43m        \u001b[49m\u001b[43mredirect\u001b[49m\u001b[38;5;241;43m=\u001b[39;49m\u001b[38;5;28;43;01mFalse\u001b[39;49;00m\u001b[43m,\u001b[49m\n\u001b[1;32m    492\u001b[0m \u001b[43m        \u001b[49m\u001b[43massert_same_host\u001b[49m\u001b[38;5;241;43m=\u001b[39;49m\u001b[38;5;28;43;01mFalse\u001b[39;49;00m\u001b[43m,\u001b[49m\n\u001b[1;32m    493\u001b[0m \u001b[43m        \u001b[49m\u001b[43mpreload_content\u001b[49m\u001b[38;5;241;43m=\u001b[39;49m\u001b[38;5;28;43;01mFalse\u001b[39;49;00m\u001b[43m,\u001b[49m\n\u001b[1;32m    494\u001b[0m \u001b[43m        \u001b[49m\u001b[43mdecode_content\u001b[49m\u001b[38;5;241;43m=\u001b[39;49m\u001b[38;5;28;43;01mFalse\u001b[39;49;00m\u001b[43m,\u001b[49m\n\u001b[1;32m    495\u001b[0m \u001b[43m        \u001b[49m\u001b[43mretries\u001b[49m\u001b[38;5;241;43m=\u001b[39;49m\u001b[38;5;28;43mself\u001b[39;49m\u001b[38;5;241;43m.\u001b[39;49m\u001b[43mmax_retries\u001b[49m\u001b[43m,\u001b[49m\n\u001b[1;32m    496\u001b[0m \u001b[43m        \u001b[49m\u001b[43mtimeout\u001b[49m\u001b[38;5;241;43m=\u001b[39;49m\u001b[43mtimeout\u001b[49m\u001b[43m,\u001b[49m\n\u001b[1;32m    497\u001b[0m \u001b[43m        \u001b[49m\u001b[43mchunked\u001b[49m\u001b[38;5;241;43m=\u001b[39;49m\u001b[43mchunked\u001b[49m\u001b[43m,\u001b[49m\n\u001b[1;32m    498\u001b[0m \u001b[43m    \u001b[49m\u001b[43m)\u001b[49m\n\u001b[1;32m    500\u001b[0m \u001b[38;5;28;01mexcept\u001b[39;00m (ProtocolError, \u001b[38;5;167;01mOSError\u001b[39;00m) \u001b[38;5;28;01mas\u001b[39;00m err:\n",
      "File \u001b[0;32m~/anaconda3/envs/surveysparrow/lib/python3.10/site-packages/urllib3/connectionpool.py:847\u001b[0m, in \u001b[0;36mHTTPConnectionPool.urlopen\u001b[0;34m(self, method, url, body, headers, retries, redirect, assert_same_host, timeout, pool_timeout, release_conn, chunked, body_pos, preload_content, decode_content, **response_kw)\u001b[0m\n\u001b[1;32m    845\u001b[0m     new_e \u001b[38;5;241m=\u001b[39m ProtocolError(\u001b[38;5;124m\"\u001b[39m\u001b[38;5;124mConnection aborted.\u001b[39m\u001b[38;5;124m\"\u001b[39m, new_e)\n\u001b[0;32m--> 847\u001b[0m retries \u001b[38;5;241m=\u001b[39m \u001b[43mretries\u001b[49m\u001b[38;5;241;43m.\u001b[39;49m\u001b[43mincrement\u001b[49m\u001b[43m(\u001b[49m\n\u001b[1;32m    848\u001b[0m \u001b[43m    \u001b[49m\u001b[43mmethod\u001b[49m\u001b[43m,\u001b[49m\u001b[43m \u001b[49m\u001b[43murl\u001b[49m\u001b[43m,\u001b[49m\u001b[43m \u001b[49m\u001b[43merror\u001b[49m\u001b[38;5;241;43m=\u001b[39;49m\u001b[43mnew_e\u001b[49m\u001b[43m,\u001b[49m\u001b[43m \u001b[49m\u001b[43m_pool\u001b[49m\u001b[38;5;241;43m=\u001b[39;49m\u001b[38;5;28;43mself\u001b[39;49m\u001b[43m,\u001b[49m\u001b[43m \u001b[49m\u001b[43m_stacktrace\u001b[49m\u001b[38;5;241;43m=\u001b[39;49m\u001b[43msys\u001b[49m\u001b[38;5;241;43m.\u001b[39;49m\u001b[43mexc_info\u001b[49m\u001b[43m(\u001b[49m\u001b[43m)\u001b[49m\u001b[43m[\u001b[49m\u001b[38;5;241;43m2\u001b[39;49m\u001b[43m]\u001b[49m\n\u001b[1;32m    849\u001b[0m \u001b[43m\u001b[49m\u001b[43m)\u001b[49m\n\u001b[1;32m    850\u001b[0m retries\u001b[38;5;241m.\u001b[39msleep()\n",
      "File \u001b[0;32m~/anaconda3/envs/surveysparrow/lib/python3.10/site-packages/urllib3/util/retry.py:515\u001b[0m, in \u001b[0;36mRetry.increment\u001b[0;34m(self, method, url, response, error, _pool, _stacktrace)\u001b[0m\n\u001b[1;32m    514\u001b[0m     reason \u001b[38;5;241m=\u001b[39m error \u001b[38;5;129;01mor\u001b[39;00m ResponseError(cause)\n\u001b[0;32m--> 515\u001b[0m     \u001b[38;5;28;01mraise\u001b[39;00m MaxRetryError(_pool, url, reason) \u001b[38;5;28;01mfrom\u001b[39;00m \u001b[38;5;21;01mreason\u001b[39;00m  \u001b[38;5;66;03m# type: ignore[arg-type]\u001b[39;00m\n\u001b[1;32m    517\u001b[0m log\u001b[38;5;241m.\u001b[39mdebug(\u001b[38;5;124m\"\u001b[39m\u001b[38;5;124mIncremented Retry for (url=\u001b[39m\u001b[38;5;124m'\u001b[39m\u001b[38;5;132;01m%s\u001b[39;00m\u001b[38;5;124m'\u001b[39m\u001b[38;5;124m): \u001b[39m\u001b[38;5;132;01m%r\u001b[39;00m\u001b[38;5;124m\"\u001b[39m, url, new_retry)\n",
      "\u001b[0;31mMaxRetryError\u001b[0m: HTTPConnectionPool(host='localhost', port=5001): Max retries exceeded with url: /table/v1/driving/-143.25417751710535,-33.87674124106154;64.01395324664284,8.786430706918452;-82.79712965082065,38.73408594703551;84.66984796413414,18.49740769289589;166.38787624227774,8.078972939441442;-90.44886833281511,-13.742136118997152;27.416640390421293,26.2609403519981;33.13509525786205,-11.234301972715343;26.010686084714422,70.51914014077437;-99.69061224937741,83.45929689018527;162.98964414611459,-20.98052661136002;-19.034863697654146,52.51050685487962;124.707122089606,5.201085555522809;71.81253911430156,12.248020996907812;-72.92269769215189,76.607394892679;112.96721509289182,-77.21350952438036;-37.257933295085536,-74.31672605372268;137.19715096001818,-86.36068846074137;29.25823414890914,59.871572198628826;137.424730267747,50.068215170973076;69.3113724279957,66.60218668442744;81.09154073507057,86.15130160189753;0.47677749361281485,53.84854155901024;164.19010850036062,-6.933714794472266;51.83647172266947,50.49525173156198;-27.412182519055307,-68.71060334359203;38.30155708605275,25.185783838954293;-173.09044860863992,-64.19640826637165;-71.43306599716225,80.04040506892511;57.66247349736662,3.932697915012895;-75.57206140424013,-15.360850801705752;42.485554439582955,-42.37998982116714;-25.643267659524184,49.36206409815901;-131.22933687991792,-7.892940201021261;-72.61836265582892,12.318110796356734;25.187367852455367,-86.61783592145608;32.71419404934235,21.174389473657868;26.757089585848377,20.17723009003585;55.1522951485681,21.04811943745625;54.757177200608,79.87465413263234;-24.689363243769378,32.72765383862702;142.75677450638267,-25.28857789671852;-47.67772678275725,-11.334248316118533;-23.088626904374337,35.57361526690768;141.09240780564198,-79.15941510673143;110.22983605659084,30.018008780220185;73.39989007453187,30.714816531268696;-143.91832056757158,-52.131139006708636;151.0137409480825,-66.79326642212641;77.1268678376801,-33.22289683364691;179.58492236443192,-24.532061230327926;-126.19861032312225,12.635418675218332;132.52538065255715,-11.05172757678234;-121.50254351650506,87.9072908506607;41.60144314218391,-71.63193406535495;-135.42480617420105,-52.40218390292976;125.2829625560044,-60.964286780700675;110.63482514100383,27.559498583771713;24.87626590125359,-44.40751154283922;-33.41401299864012,-6.064060885864862;-155.09988163615031,-46.00339343971151;71.07435833204292,-61.38547494380645;-16.724634235895223,-70.13247459042508;79.94001580932525,28.139326103749212;131.89763733430652,-65.12706875724952;171.1877418010389,-54.61517489759037;128.08920326133995,-23.62946928102646;-175.7829296933993,57.778781372628316;-50.407896787789014,-72.52177035724897;82.79660247266088,60.8300833497847;-118.21331618588141,-72.70228657908665;7.573178233486544,85.76270370241124;-160.4383241978687,-5.642783703413713;-108.00125103729597,85.8169958742607;-173.33215399417898,18.87219355410828;105.73117320867141,43.0674442916943;-99.38711229826315,-82.94619739422228;-55.673394949115036,-39.09474673624628;154.1092656476127,-68.3646189816296;73.5891846924718,-36.69476444601391;-168.53798536872918,-68.62901058823607;-120.71010366075141,-32.76302770908431;43.73222453991488,-15.432660987359412;27.80229189750034,-78.45345065721881;-94.35858430517689,34.64498148660357;156.31703925292578,11.988261757183523;41.02774414772256,-42.22989163089983;12.827809088984992,4.184649624005942;32.36759148764554,-73.09070806348049;82.84393062603709,13.670369200112276;-67.69980162734333,77.27331556371854;-36.640417602206924,-32.65758855876174;-104.45625036895603,30.133868393462706;-112.97051788307898,-66.27638476720941;159.9740603942161,38.93889674134181;86.23828621774351,-37.9069032695038;-3.4348288976758568,-57.02555483871897;-98.13073392960364,15.572328265814974;-88.43166656265853,-86.38064168625117;-159.10950228340477,59.209205259125355;-23.61001479907651,-89.15481428534153?sources=0&annotations=distance,duration (Caused by NewConnectionError('<urllib3.connection.HTTPConnection object at 0x11f444100>: Failed to establish a new connection: [Errno 61] Connection refused'))",
      "\nDuring handling of the above exception, another exception occurred:\n",
      "\u001b[0;31mConnectionError\u001b[0m                           Traceback (most recent call last)",
      "Cell \u001b[0;32mIn[13], line 3\u001b[0m\n\u001b[1;32m      1\u001b[0m \u001b[38;5;28;01mfrom\u001b[39;00m \u001b[38;5;21;01msurveyscout\u001b[39;00m\u001b[38;5;21;01m.\u001b[39;00m\u001b[38;5;21;01mflows\u001b[39;00m \u001b[38;5;28;01mimport\u001b[39;00m recursive_min_distance_flow\n\u001b[0;32m----> 3\u001b[0m results_df, params \u001b[38;5;241m=\u001b[39m \u001b[43mrecursive_min_distance_flow\u001b[49m\u001b[43m(\u001b[49m\n\u001b[1;32m      4\u001b[0m \u001b[43m    \u001b[49m\u001b[43menum_locations\u001b[49m\u001b[38;5;241;43m=\u001b[39;49m\u001b[43menum_locations\u001b[49m\u001b[43m,\u001b[49m\n\u001b[1;32m      5\u001b[0m \u001b[43m    \u001b[49m\u001b[43mtarget_locations\u001b[49m\u001b[38;5;241;43m=\u001b[39;49m\u001b[43mtarget_locations\u001b[49m\u001b[43m,\u001b[49m\n\u001b[1;32m      6\u001b[0m \u001b[43m    \u001b[49m\u001b[43mmin_target\u001b[49m\u001b[38;5;241;43m=\u001b[39;49m\u001b[38;5;241;43m15\u001b[39;49m\u001b[43m,\u001b[49m\n\u001b[1;32m      7\u001b[0m \u001b[43m    \u001b[49m\u001b[43mmax_target\u001b[49m\u001b[38;5;241;43m=\u001b[39;49m\u001b[38;5;241;43m35\u001b[39;49m\u001b[43m,\u001b[49m\n\u001b[1;32m      8\u001b[0m \u001b[43m    \u001b[49m\u001b[43mmax_distance\u001b[49m\u001b[38;5;241;43m=\u001b[39;49m\u001b[38;5;241;43m100\u001b[39;49m\u001b[43m,\u001b[49m\n\u001b[1;32m      9\u001b[0m \u001b[43m    \u001b[49m\u001b[43mmax_total_distance\u001b[49m\u001b[38;5;241;43m=\u001b[39;49m\u001b[38;5;241;43m1000\u001b[39;49m\u001b[43m,\u001b[49m\n\u001b[1;32m     10\u001b[0m \u001b[43m    \u001b[49m\u001b[43mparam_increment\u001b[49m\u001b[38;5;241;43m=\u001b[39;49m\u001b[38;5;241;43m5\u001b[39;49m\u001b[43m,\u001b[49m\n\u001b[1;32m     11\u001b[0m \u001b[43m    \u001b[49m\u001b[43mrouting\u001b[49m\u001b[38;5;241;43m=\u001b[39;49m\u001b[38;5;124;43m\"\u001b[39;49m\u001b[38;5;124;43mosrm\u001b[39;49m\u001b[38;5;124;43m\"\u001b[39;49m\u001b[43m,\u001b[49m\n\u001b[1;32m     12\u001b[0m \u001b[43m)\u001b[49m\n",
      "File \u001b[0;32m~/Documents/IdInsight/projects/DoD/surveyscout/surveyscout/flows/min_distance_flow.py:159\u001b[0m, in \u001b[0;36mrecursive_min_distance_flow\u001b[0;34m(enum_locations, target_locations, min_target, max_target, max_distance, max_total_distance, routing, param_increment)\u001b[0m\n\u001b[1;32m    154\u001b[0m     distance_df \u001b[38;5;241m=\u001b[39m get_enum_target_haversine_matrix(\n\u001b[1;32m    155\u001b[0m         enum_locations\u001b[38;5;241m=\u001b[39menum_locations,\n\u001b[1;32m    156\u001b[0m         target_locations\u001b[38;5;241m=\u001b[39mtarget_locations,\n\u001b[1;32m    157\u001b[0m     )\n\u001b[1;32m    158\u001b[0m \u001b[38;5;28;01melif\u001b[39;00m routing \u001b[38;5;241m==\u001b[39m \u001b[38;5;124m\"\u001b[39m\u001b[38;5;124mosrm\u001b[39m\u001b[38;5;124m\"\u001b[39m:\n\u001b[0;32m--> 159\u001b[0m     distance_df \u001b[38;5;241m=\u001b[39m \u001b[43mget_enum_target_osrm_matrix\u001b[49m\u001b[43m(\u001b[49m\n\u001b[1;32m    160\u001b[0m \u001b[43m        \u001b[49m\u001b[43menum_locations\u001b[49m\u001b[38;5;241;43m=\u001b[39;49m\u001b[43menum_locations\u001b[49m\u001b[43m,\u001b[49m\u001b[43m \u001b[49m\u001b[43mtarget_locations\u001b[49m\u001b[38;5;241;43m=\u001b[39;49m\u001b[43mtarget_locations\u001b[49m\n\u001b[1;32m    161\u001b[0m \u001b[43m    \u001b[49m\u001b[43m)\u001b[49m\n\u001b[1;32m    162\u001b[0m \u001b[38;5;28;01melse\u001b[39;00m:\n\u001b[1;32m    163\u001b[0m     \u001b[38;5;28;01mraise\u001b[39;00m \u001b[38;5;167;01mValueError\u001b[39;00m(\n\u001b[1;32m    164\u001b[0m         \u001b[38;5;124m\"\u001b[39m\u001b[38;5;124mInvalid routing method. Please choose from \u001b[39m\u001b[38;5;124m'\u001b[39m\u001b[38;5;124mhaversine\u001b[39m\u001b[38;5;124m'\u001b[39m\u001b[38;5;124m or \u001b[39m\u001b[38;5;124m'\u001b[39m\u001b[38;5;124mosrm\u001b[39m\u001b[38;5;124m'\u001b[39m\u001b[38;5;124m.\u001b[39m\u001b[38;5;124m\"\u001b[39m\n\u001b[1;32m    165\u001b[0m     )\n",
      "File \u001b[0;32m~/Documents/IdInsight/projects/DoD/surveyscout/surveyscout/tasks/compute_cost/osrm.py:31\u001b[0m, in \u001b[0;36mget_enum_target_osrm_matrix\u001b[0;34m(enum_locations, target_locations)\u001b[0m\n\u001b[1;32m     28\u001b[0m targets_coords \u001b[38;5;241m=\u001b[39m target_locations\u001b[38;5;241m.\u001b[39mget_gps_coords()\n\u001b[1;32m     30\u001b[0m url \u001b[38;5;241m=\u001b[39m OSRM_URL \u001b[38;5;241m+\u001b[39m \u001b[38;5;124m\"\u001b[39m\u001b[38;5;124m/table/v1/driving/\u001b[39m\u001b[38;5;124m\"\u001b[39m\n\u001b[0;32m---> 31\u001b[0m matrix \u001b[38;5;241m=\u001b[39m \u001b[43m_get_enum_target_matrix_osrm\u001b[49m\u001b[43m(\u001b[49m\u001b[43murl\u001b[49m\u001b[43m,\u001b[49m\u001b[43m \u001b[49m\u001b[43mtargets_coords\u001b[49m\u001b[43m,\u001b[49m\u001b[43m \u001b[49m\u001b[43menums_coords\u001b[49m\u001b[43m)\u001b[49m\n\u001b[1;32m     32\u001b[0m matrix_df \u001b[38;5;241m=\u001b[39m pd\u001b[38;5;241m.\u001b[39mDataFrame(\n\u001b[1;32m     33\u001b[0m     matrix, index\u001b[38;5;241m=\u001b[39mtarget_locations\u001b[38;5;241m.\u001b[39mget_ids(), columns\u001b[38;5;241m=\u001b[39menum_locations\u001b[38;5;241m.\u001b[39mget_ids()\n\u001b[1;32m     34\u001b[0m )\n\u001b[1;32m     35\u001b[0m \u001b[38;5;28;01mreturn\u001b[39;00m matrix_df\n",
      "File \u001b[0;32m~/Documents/IdInsight/projects/DoD/surveyscout/surveyscout/tasks/compute_cost/osrm.py:41\u001b[0m, in \u001b[0;36m_get_enum_target_matrix_osrm\u001b[0;34m(url, target_coords, enum_coords)\u001b[0m\n\u001b[1;32m     38\u001b[0m \u001b[38;5;28;01mdef\u001b[39;00m \u001b[38;5;21m_get_enum_target_matrix_osrm\u001b[39m(url, target_coords, enum_coords):\n\u001b[1;32m     39\u001b[0m \u001b[38;5;250m    \u001b[39m\u001b[38;5;124;03m\"\"\"Get the matrix of distances between enumerators and targets\u001b[39;00m\n\u001b[1;32m     40\u001b[0m \u001b[38;5;124;03m    using OSRM.\"\"\"\u001b[39;00m\n\u001b[0;32m---> 41\u001b[0m     matrix \u001b[38;5;241m=\u001b[39m [\n\u001b[1;32m     42\u001b[0m         _get_unique_target_enum_row_osrm(url, target_coord, enum_coords)\n\u001b[1;32m     43\u001b[0m         \u001b[38;5;28;01mfor\u001b[39;00m target_coord \u001b[38;5;129;01min\u001b[39;00m target_coords\n\u001b[1;32m     44\u001b[0m     ]\n\u001b[1;32m     46\u001b[0m     \u001b[38;5;28;01mreturn\u001b[39;00m matrix\n",
      "File \u001b[0;32m~/Documents/IdInsight/projects/DoD/surveyscout/surveyscout/tasks/compute_cost/osrm.py:42\u001b[0m, in \u001b[0;36m<listcomp>\u001b[0;34m(.0)\u001b[0m\n\u001b[1;32m     38\u001b[0m \u001b[38;5;28;01mdef\u001b[39;00m \u001b[38;5;21m_get_enum_target_matrix_osrm\u001b[39m(url, target_coords, enum_coords):\n\u001b[1;32m     39\u001b[0m \u001b[38;5;250m    \u001b[39m\u001b[38;5;124;03m\"\"\"Get the matrix of distances between enumerators and targets\u001b[39;00m\n\u001b[1;32m     40\u001b[0m \u001b[38;5;124;03m    using OSRM.\"\"\"\u001b[39;00m\n\u001b[1;32m     41\u001b[0m     matrix \u001b[38;5;241m=\u001b[39m [\n\u001b[0;32m---> 42\u001b[0m         \u001b[43m_get_unique_target_enum_row_osrm\u001b[49m\u001b[43m(\u001b[49m\u001b[43murl\u001b[49m\u001b[43m,\u001b[49m\u001b[43m \u001b[49m\u001b[43mtarget_coord\u001b[49m\u001b[43m,\u001b[49m\u001b[43m \u001b[49m\u001b[43menum_coords\u001b[49m\u001b[43m)\u001b[49m\n\u001b[1;32m     43\u001b[0m         \u001b[38;5;28;01mfor\u001b[39;00m target_coord \u001b[38;5;129;01min\u001b[39;00m target_coords\n\u001b[1;32m     44\u001b[0m     ]\n\u001b[1;32m     46\u001b[0m     \u001b[38;5;28;01mreturn\u001b[39;00m matrix\n",
      "File \u001b[0;32m~/Documents/IdInsight/projects/DoD/surveyscout/surveyscout/tasks/compute_cost/osrm.py:53\u001b[0m, in \u001b[0;36m_get_unique_target_enum_row_osrm\u001b[0;34m(url, target_coord, enum_coords)\u001b[0m\n\u001b[1;32m     51\u001b[0m coords \u001b[38;5;241m=\u001b[39m np\u001b[38;5;241m.\u001b[39minsert(enum_coords, \u001b[38;5;241m0\u001b[39m, target_coord, axis\u001b[38;5;241m=\u001b[39m\u001b[38;5;241m0\u001b[39m)\n\u001b[1;32m     52\u001b[0m url \u001b[38;5;241m=\u001b[39m _format_url_with_coords_osrm(url, coords)\n\u001b[0;32m---> 53\u001b[0m response \u001b[38;5;241m=\u001b[39m \u001b[43mrequests\u001b[49m\u001b[38;5;241;43m.\u001b[39;49m\u001b[43mget\u001b[49m\u001b[43m(\u001b[49m\u001b[43murl\u001b[49m\u001b[43m)\u001b[49m\n\u001b[1;32m     54\u001b[0m \u001b[38;5;28;01mif\u001b[39;00m \u001b[38;5;124m\"\u001b[39m\u001b[38;5;124mdistances\u001b[39m\u001b[38;5;124m\"\u001b[39m \u001b[38;5;129;01min\u001b[39;00m response\u001b[38;5;241m.\u001b[39mjson():\n\u001b[1;32m     55\u001b[0m     data \u001b[38;5;241m=\u001b[39m response\u001b[38;5;241m.\u001b[39mjson()[\u001b[38;5;124m\"\u001b[39m\u001b[38;5;124mdistances\u001b[39m\u001b[38;5;124m\"\u001b[39m][\u001b[38;5;241m0\u001b[39m][\u001b[38;5;241m1\u001b[39m:]\n",
      "File \u001b[0;32m~/anaconda3/envs/surveysparrow/lib/python3.10/site-packages/requests/api.py:73\u001b[0m, in \u001b[0;36mget\u001b[0;34m(url, params, **kwargs)\u001b[0m\n\u001b[1;32m     62\u001b[0m \u001b[38;5;28;01mdef\u001b[39;00m \u001b[38;5;21mget\u001b[39m(url, params\u001b[38;5;241m=\u001b[39m\u001b[38;5;28;01mNone\u001b[39;00m, \u001b[38;5;241m*\u001b[39m\u001b[38;5;241m*\u001b[39mkwargs):\n\u001b[1;32m     63\u001b[0m \u001b[38;5;250m    \u001b[39m\u001b[38;5;124mr\u001b[39m\u001b[38;5;124;03m\"\"\"Sends a GET request.\u001b[39;00m\n\u001b[1;32m     64\u001b[0m \n\u001b[1;32m     65\u001b[0m \u001b[38;5;124;03m    :param url: URL for the new :class:`Request` object.\u001b[39;00m\n\u001b[0;32m   (...)\u001b[0m\n\u001b[1;32m     70\u001b[0m \u001b[38;5;124;03m    :rtype: requests.Response\u001b[39;00m\n\u001b[1;32m     71\u001b[0m \u001b[38;5;124;03m    \"\"\"\u001b[39;00m\n\u001b[0;32m---> 73\u001b[0m     \u001b[38;5;28;01mreturn\u001b[39;00m \u001b[43mrequest\u001b[49m\u001b[43m(\u001b[49m\u001b[38;5;124;43m\"\u001b[39;49m\u001b[38;5;124;43mget\u001b[39;49m\u001b[38;5;124;43m\"\u001b[39;49m\u001b[43m,\u001b[49m\u001b[43m \u001b[49m\u001b[43murl\u001b[49m\u001b[43m,\u001b[49m\u001b[43m \u001b[49m\u001b[43mparams\u001b[49m\u001b[38;5;241;43m=\u001b[39;49m\u001b[43mparams\u001b[49m\u001b[43m,\u001b[49m\u001b[43m \u001b[49m\u001b[38;5;241;43m*\u001b[39;49m\u001b[38;5;241;43m*\u001b[39;49m\u001b[43mkwargs\u001b[49m\u001b[43m)\u001b[49m\n",
      "File \u001b[0;32m~/anaconda3/envs/surveysparrow/lib/python3.10/site-packages/requests/api.py:59\u001b[0m, in \u001b[0;36mrequest\u001b[0;34m(method, url, **kwargs)\u001b[0m\n\u001b[1;32m     55\u001b[0m \u001b[38;5;66;03m# By using the 'with' statement we are sure the session is closed, thus we\u001b[39;00m\n\u001b[1;32m     56\u001b[0m \u001b[38;5;66;03m# avoid leaving sockets open which can trigger a ResourceWarning in some\u001b[39;00m\n\u001b[1;32m     57\u001b[0m \u001b[38;5;66;03m# cases, and look like a memory leak in others.\u001b[39;00m\n\u001b[1;32m     58\u001b[0m \u001b[38;5;28;01mwith\u001b[39;00m sessions\u001b[38;5;241m.\u001b[39mSession() \u001b[38;5;28;01mas\u001b[39;00m session:\n\u001b[0;32m---> 59\u001b[0m     \u001b[38;5;28;01mreturn\u001b[39;00m \u001b[43msession\u001b[49m\u001b[38;5;241;43m.\u001b[39;49m\u001b[43mrequest\u001b[49m\u001b[43m(\u001b[49m\u001b[43mmethod\u001b[49m\u001b[38;5;241;43m=\u001b[39;49m\u001b[43mmethod\u001b[49m\u001b[43m,\u001b[49m\u001b[43m \u001b[49m\u001b[43murl\u001b[49m\u001b[38;5;241;43m=\u001b[39;49m\u001b[43murl\u001b[49m\u001b[43m,\u001b[49m\u001b[43m \u001b[49m\u001b[38;5;241;43m*\u001b[39;49m\u001b[38;5;241;43m*\u001b[39;49m\u001b[43mkwargs\u001b[49m\u001b[43m)\u001b[49m\n",
      "File \u001b[0;32m~/anaconda3/envs/surveysparrow/lib/python3.10/site-packages/requests/sessions.py:589\u001b[0m, in \u001b[0;36mSession.request\u001b[0;34m(self, method, url, params, data, headers, cookies, files, auth, timeout, allow_redirects, proxies, hooks, stream, verify, cert, json)\u001b[0m\n\u001b[1;32m    584\u001b[0m send_kwargs \u001b[38;5;241m=\u001b[39m {\n\u001b[1;32m    585\u001b[0m     \u001b[38;5;124m\"\u001b[39m\u001b[38;5;124mtimeout\u001b[39m\u001b[38;5;124m\"\u001b[39m: timeout,\n\u001b[1;32m    586\u001b[0m     \u001b[38;5;124m\"\u001b[39m\u001b[38;5;124mallow_redirects\u001b[39m\u001b[38;5;124m\"\u001b[39m: allow_redirects,\n\u001b[1;32m    587\u001b[0m }\n\u001b[1;32m    588\u001b[0m send_kwargs\u001b[38;5;241m.\u001b[39mupdate(settings)\n\u001b[0;32m--> 589\u001b[0m resp \u001b[38;5;241m=\u001b[39m \u001b[38;5;28;43mself\u001b[39;49m\u001b[38;5;241;43m.\u001b[39;49m\u001b[43msend\u001b[49m\u001b[43m(\u001b[49m\u001b[43mprep\u001b[49m\u001b[43m,\u001b[49m\u001b[43m \u001b[49m\u001b[38;5;241;43m*\u001b[39;49m\u001b[38;5;241;43m*\u001b[39;49m\u001b[43msend_kwargs\u001b[49m\u001b[43m)\u001b[49m\n\u001b[1;32m    591\u001b[0m \u001b[38;5;28;01mreturn\u001b[39;00m resp\n",
      "File \u001b[0;32m~/anaconda3/envs/surveysparrow/lib/python3.10/site-packages/requests/sessions.py:703\u001b[0m, in \u001b[0;36mSession.send\u001b[0;34m(self, request, **kwargs)\u001b[0m\n\u001b[1;32m    700\u001b[0m start \u001b[38;5;241m=\u001b[39m preferred_clock()\n\u001b[1;32m    702\u001b[0m \u001b[38;5;66;03m# Send the request\u001b[39;00m\n\u001b[0;32m--> 703\u001b[0m r \u001b[38;5;241m=\u001b[39m \u001b[43madapter\u001b[49m\u001b[38;5;241;43m.\u001b[39;49m\u001b[43msend\u001b[49m\u001b[43m(\u001b[49m\u001b[43mrequest\u001b[49m\u001b[43m,\u001b[49m\u001b[43m \u001b[49m\u001b[38;5;241;43m*\u001b[39;49m\u001b[38;5;241;43m*\u001b[39;49m\u001b[43mkwargs\u001b[49m\u001b[43m)\u001b[49m\n\u001b[1;32m    705\u001b[0m \u001b[38;5;66;03m# Total elapsed time of the request (approximately)\u001b[39;00m\n\u001b[1;32m    706\u001b[0m elapsed \u001b[38;5;241m=\u001b[39m preferred_clock() \u001b[38;5;241m-\u001b[39m start\n",
      "File \u001b[0;32m~/anaconda3/envs/surveysparrow/lib/python3.10/site-packages/requests/adapters.py:519\u001b[0m, in \u001b[0;36mHTTPAdapter.send\u001b[0;34m(self, request, stream, timeout, verify, cert, proxies)\u001b[0m\n\u001b[1;32m    515\u001b[0m     \u001b[38;5;28;01mif\u001b[39;00m \u001b[38;5;28misinstance\u001b[39m(e\u001b[38;5;241m.\u001b[39mreason, _SSLError):\n\u001b[1;32m    516\u001b[0m         \u001b[38;5;66;03m# This branch is for urllib3 v1.22 and later.\u001b[39;00m\n\u001b[1;32m    517\u001b[0m         \u001b[38;5;28;01mraise\u001b[39;00m SSLError(e, request\u001b[38;5;241m=\u001b[39mrequest)\n\u001b[0;32m--> 519\u001b[0m     \u001b[38;5;28;01mraise\u001b[39;00m \u001b[38;5;167;01mConnectionError\u001b[39;00m(e, request\u001b[38;5;241m=\u001b[39mrequest)\n\u001b[1;32m    521\u001b[0m \u001b[38;5;28;01mexcept\u001b[39;00m ClosedPoolError \u001b[38;5;28;01mas\u001b[39;00m e:\n\u001b[1;32m    522\u001b[0m     \u001b[38;5;28;01mraise\u001b[39;00m \u001b[38;5;167;01mConnectionError\u001b[39;00m(e, request\u001b[38;5;241m=\u001b[39mrequest)\n",
      "\u001b[0;31mConnectionError\u001b[0m: HTTPConnectionPool(host='localhost', port=5001): Max retries exceeded with url: /table/v1/driving/-143.25417751710535,-33.87674124106154;64.01395324664284,8.786430706918452;-82.79712965082065,38.73408594703551;84.66984796413414,18.49740769289589;166.38787624227774,8.078972939441442;-90.44886833281511,-13.742136118997152;27.416640390421293,26.2609403519981;33.13509525786205,-11.234301972715343;26.010686084714422,70.51914014077437;-99.69061224937741,83.45929689018527;162.98964414611459,-20.98052661136002;-19.034863697654146,52.51050685487962;124.707122089606,5.201085555522809;71.81253911430156,12.248020996907812;-72.92269769215189,76.607394892679;112.96721509289182,-77.21350952438036;-37.257933295085536,-74.31672605372268;137.19715096001818,-86.36068846074137;29.25823414890914,59.871572198628826;137.424730267747,50.068215170973076;69.3113724279957,66.60218668442744;81.09154073507057,86.15130160189753;0.47677749361281485,53.84854155901024;164.19010850036062,-6.933714794472266;51.83647172266947,50.49525173156198;-27.412182519055307,-68.71060334359203;38.30155708605275,25.185783838954293;-173.09044860863992,-64.19640826637165;-71.43306599716225,80.04040506892511;57.66247349736662,3.932697915012895;-75.57206140424013,-15.360850801705752;42.485554439582955,-42.37998982116714;-25.643267659524184,49.36206409815901;-131.22933687991792,-7.892940201021261;-72.61836265582892,12.318110796356734;25.187367852455367,-86.61783592145608;32.71419404934235,21.174389473657868;26.757089585848377,20.17723009003585;55.1522951485681,21.04811943745625;54.757177200608,79.87465413263234;-24.689363243769378,32.72765383862702;142.75677450638267,-25.28857789671852;-47.67772678275725,-11.334248316118533;-23.088626904374337,35.57361526690768;141.09240780564198,-79.15941510673143;110.22983605659084,30.018008780220185;73.39989007453187,30.714816531268696;-143.91832056757158,-52.131139006708636;151.0137409480825,-66.79326642212641;77.1268678376801,-33.22289683364691;179.58492236443192,-24.532061230327926;-126.19861032312225,12.635418675218332;132.52538065255715,-11.05172757678234;-121.50254351650506,87.9072908506607;41.60144314218391,-71.63193406535495;-135.42480617420105,-52.40218390292976;125.2829625560044,-60.964286780700675;110.63482514100383,27.559498583771713;24.87626590125359,-44.40751154283922;-33.41401299864012,-6.064060885864862;-155.09988163615031,-46.00339343971151;71.07435833204292,-61.38547494380645;-16.724634235895223,-70.13247459042508;79.94001580932525,28.139326103749212;131.89763733430652,-65.12706875724952;171.1877418010389,-54.61517489759037;128.08920326133995,-23.62946928102646;-175.7829296933993,57.778781372628316;-50.407896787789014,-72.52177035724897;82.79660247266088,60.8300833497847;-118.21331618588141,-72.70228657908665;7.573178233486544,85.76270370241124;-160.4383241978687,-5.642783703413713;-108.00125103729597,85.8169958742607;-173.33215399417898,18.87219355410828;105.73117320867141,43.0674442916943;-99.38711229826315,-82.94619739422228;-55.673394949115036,-39.09474673624628;154.1092656476127,-68.3646189816296;73.5891846924718,-36.69476444601391;-168.53798536872918,-68.62901058823607;-120.71010366075141,-32.76302770908431;43.73222453991488,-15.432660987359412;27.80229189750034,-78.45345065721881;-94.35858430517689,34.64498148660357;156.31703925292578,11.988261757183523;41.02774414772256,-42.22989163089983;12.827809088984992,4.184649624005942;32.36759148764554,-73.09070806348049;82.84393062603709,13.670369200112276;-67.69980162734333,77.27331556371854;-36.640417602206924,-32.65758855876174;-104.45625036895603,30.133868393462706;-112.97051788307898,-66.27638476720941;159.9740603942161,38.93889674134181;86.23828621774351,-37.9069032695038;-3.4348288976758568,-57.02555483871897;-98.13073392960364,15.572328265814974;-88.43166656265853,-86.38064168625117;-159.10950228340477,59.209205259125355;-23.61001479907651,-89.15481428534153?sources=0&annotations=distance,duration (Caused by NewConnectionError('<urllib3.connection.HTTPConnection object at 0x11f444100>: Failed to establish a new connection: [Errno 61] Connection refused'))"
     ]
    }
   ],
   "source": [
    "from surveyscout.flows import recursive_min_distance_flow\n",
    "\n",
    "results_df, params = recursive_min_distance_flow(\n",
    "    enum_locations=enum_locations,\n",
    "    target_locations=target_locations,\n",
    "    min_target=15,\n",
    "    max_target=35,\n",
    "    max_distance=100,\n",
    "    max_total_distance=1000,\n",
    "    param_increment=5,\n",
    "    routing=\"osrm\",\n",
    ")"
   ]
  },
  {
   "cell_type": "code",
   "execution_count": 21,
   "metadata": {},
   "outputs": [
    {
     "name": "stdout",
     "output_type": "stream",
     "text": [
      "{'min_target': 15, 'max_target': 35, 'max_cost': 100, 'max_total_cost': 1000}\n"
     ]
    }
   ],
   "source": [
    "print(params)"
   ]
  },
  {
   "cell_type": "code",
   "execution_count": 22,
   "metadata": {},
   "outputs": [
    {
     "data": {
      "text/html": [
       "<div>\n",
       "<style scoped>\n",
       "    .dataframe tbody tr th:only-of-type {\n",
       "        vertical-align: middle;\n",
       "    }\n",
       "\n",
       "    .dataframe tbody tr th {\n",
       "        vertical-align: top;\n",
       "    }\n",
       "\n",
       "    .dataframe thead th {\n",
       "        text-align: right;\n",
       "    }\n",
       "</style>\n",
       "<table border=\"1\" class=\"dataframe\">\n",
       "  <thead>\n",
       "    <tr style=\"text-align: right;\">\n",
       "      <th></th>\n",
       "      <th>target_id</th>\n",
       "      <th>enum_id</th>\n",
       "      <th>value</th>\n",
       "    </tr>\n",
       "  </thead>\n",
       "  <tbody>\n",
       "    <tr>\n",
       "      <th>0</th>\n",
       "      <td>T0001</td>\n",
       "      <td>E010</td>\n",
       "      <td>1.0</td>\n",
       "    </tr>\n",
       "    <tr>\n",
       "      <th>1</th>\n",
       "      <td>T0002</td>\n",
       "      <td>E004</td>\n",
       "      <td>1.0</td>\n",
       "    </tr>\n",
       "    <tr>\n",
       "      <th>2</th>\n",
       "      <td>T0003</td>\n",
       "      <td>E006</td>\n",
       "      <td>1.0</td>\n",
       "    </tr>\n",
       "    <tr>\n",
       "      <th>3</th>\n",
       "      <td>T0004</td>\n",
       "      <td>E002</td>\n",
       "      <td>1.0</td>\n",
       "    </tr>\n",
       "    <tr>\n",
       "      <th>4</th>\n",
       "      <td>T0005</td>\n",
       "      <td>E003</td>\n",
       "      <td>1.0</td>\n",
       "    </tr>\n",
       "  </tbody>\n",
       "</table>\n",
       "</div>"
      ],
      "text/plain": [
       "  target_id enum_id  value\n",
       "0     T0001    E010    1.0\n",
       "1     T0002    E004    1.0\n",
       "2     T0003    E006    1.0\n",
       "3     T0004    E002    1.0\n",
       "4     T0005    E003    1.0"
      ]
     },
     "execution_count": 22,
     "metadata": {},
     "output_type": "execute_result"
    }
   ],
   "source": [
    "results.head()"
   ]
  }
 ],
 "metadata": {
  "kernelspec": {
   "display_name": "surveysparrow",
   "language": "python",
   "name": "python3"
  },
  "language_info": {
   "codemirror_mode": {
    "name": "ipython",
    "version": 3
   },
   "file_extension": ".py",
   "mimetype": "text/x-python",
   "name": "python",
   "nbconvert_exporter": "python",
   "pygments_lexer": "ipython3",
   "version": "3.9.18"
  }
 },
 "nbformat": 4,
 "nbformat_minor": 2
}
