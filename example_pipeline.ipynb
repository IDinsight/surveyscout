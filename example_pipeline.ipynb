{
 "cells": [
  {
   "cell_type": "code",
   "execution_count": 3,
   "metadata": {},
   "outputs": [],
   "source": [
    "import numpy as np\n",
    "import pandas as pd"
   ]
  },
  {
   "cell_type": "markdown",
   "metadata": {},
   "source": [
    "This notebook will serve as an example to showcase the different flows we will implement. we will generate a dataset of 100 enumerators and 2000 targets and simulate the optimization.\n",
    "\n",
    "# Min haversine distance flow"
   ]
  },
  {
   "cell_type": "code",
   "execution_count": 2,
   "metadata": {},
   "outputs": [
    {
     "name": "stdout",
     "output_type": "stream",
     "text": [
      "Enumerators DataFrame shape: (100, 3)\n",
      "Targets DataFrame shape: (2000, 3)\n"
     ]
    }
   ],
   "source": [
    "# Set a random seed for reproducibility\n",
    "np.random.seed(0)\n",
    "\n",
    "# Generate 100 enumerators with random latitudes and longitudes\n",
    "enumerator_data = {\n",
    "    \"enum_id\": [f\"E{i+1:03d}\" for i in range(100)],  # Creates IDs like E001, E002, ...\n",
    "    \"enum_lat\": np.random.uniform(-90, 90, 100),  # Random latitudes\n",
    "    \"enum_long\": np.random.uniform(-180, 180, 100),  # Random longitudes\n",
    "}\n",
    "\n",
    "# Generate 2000 targets with random latitudes and longitudes\n",
    "target_data = {\n",
    "    \"target_id\": [\n",
    "        f\"T{i+1:04d}\" for i in range(2000)\n",
    "    ],  # Creates IDs like T0001, T0002, ...\n",
    "    \"target_lat\": np.random.uniform(-90, 90, 2000),  # Random latitudes\n",
    "    \"target_long\": np.random.uniform(-180, 180, 2000),  # Random longitudes\n",
    "}\n",
    "\n",
    "# Create the DataFrames\n",
    "df_enum = pd.DataFrame(enumerator_data)\n",
    "df_target = pd.DataFrame(target_data)\n",
    "\n",
    "# Display the shape of the created DataFrames to confirm the number of rows\n",
    "print(f\"Enumerators DataFrame shape: {df_enum.shape}\")\n",
    "print(f\"Targets DataFrame shape: {df_target.shape}\")"
   ]
  },
  {
   "cell_type": "code",
   "execution_count": 3,
   "metadata": {},
   "outputs": [],
   "source": [
    "from optimization.utils import LocationDataset\n",
    "\n",
    "enum_locations = LocationDataset(df_enum, \"enum_id\", \"enum_lat\", \"enum_long\")\n",
    "target_locations = LocationDataset(\n",
    "    df_target, \"target_id\", \"target_lat\", \"target_long\"\n",
    ")"
   ]
  },
  {
   "cell_type": "markdown",
   "metadata": {},
   "source": [
    "### Basic min distance flow\n",
    "\n",
    "This flow implements the basic min distance model where we specify our parameters and the model will find the optimal results. Here are the parameters of the model:\n",
    "- min_target: The minimum number of targets each enumerator is required to visit.\n",
    "- max_target: The maximum number of targets each enumerator is allowed to visit.\n",
    "- max_cost: The  maximum cost assignable to a surveyor to visit a single target.\n",
    "- max_total_cost:  The initial maximum total cost assignable to a surveyor"
   ]
  },
  {
   "cell_type": "code",
   "execution_count": 4,
   "metadata": {},
   "outputs": [
    {
     "name": "stdout",
     "output_type": "stream",
     "text": [
      "Optimal value:  2142243.4940421954\n"
     ]
    }
   ],
   "source": [
    "from optimization.flows import basic_min_distance_flow\n",
    "\n",
    "results = basic_min_distance_flow(\n",
    "    enum_locations=enum_locations, \n",
    "    target_locations=target_locations,\n",
    "    min_target=5,\n",
    "    max_target=30, \n",
    "    max_distance=10000, \n",
    "    max_total_distance=100000\n",
    ")"
   ]
  },
  {
   "cell_type": "code",
   "execution_count": 5,
   "metadata": {},
   "outputs": [
    {
     "data": {
      "text/html": [
       "<div>\n",
       "<style scoped>\n",
       "    .dataframe tbody tr th:only-of-type {\n",
       "        vertical-align: middle;\n",
       "    }\n",
       "\n",
       "    .dataframe tbody tr th {\n",
       "        vertical-align: top;\n",
       "    }\n",
       "\n",
       "    .dataframe thead th {\n",
       "        text-align: right;\n",
       "    }\n",
       "</style>\n",
       "<table border=\"1\" class=\"dataframe\">\n",
       "  <thead>\n",
       "    <tr style=\"text-align: right;\">\n",
       "      <th></th>\n",
       "      <th>target_id</th>\n",
       "      <th>enum_id</th>\n",
       "      <th>value</th>\n",
       "    </tr>\n",
       "  </thead>\n",
       "  <tbody>\n",
       "    <tr>\n",
       "      <th>0</th>\n",
       "      <td>T0001</td>\n",
       "      <td>E060</td>\n",
       "      <td>1.0</td>\n",
       "    </tr>\n",
       "    <tr>\n",
       "      <th>1</th>\n",
       "      <td>T0002</td>\n",
       "      <td>E063</td>\n",
       "      <td>1.0</td>\n",
       "    </tr>\n",
       "    <tr>\n",
       "      <th>2</th>\n",
       "      <td>T0003</td>\n",
       "      <td>E042</td>\n",
       "      <td>1.0</td>\n",
       "    </tr>\n",
       "    <tr>\n",
       "      <th>3</th>\n",
       "      <td>T0004</td>\n",
       "      <td>E061</td>\n",
       "      <td>1.0</td>\n",
       "    </tr>\n",
       "    <tr>\n",
       "      <th>4</th>\n",
       "      <td>T0005</td>\n",
       "      <td>E035</td>\n",
       "      <td>1.0</td>\n",
       "    </tr>\n",
       "  </tbody>\n",
       "</table>\n",
       "</div>"
      ],
      "text/plain": [
       "  target_id enum_id  value\n",
       "0     T0001    E060    1.0\n",
       "1     T0002    E063    1.0\n",
       "2     T0003    E042    1.0\n",
       "3     T0004    E061    1.0\n",
       "4     T0005    E035    1.0"
      ]
     },
     "execution_count": 5,
     "metadata": {},
     "output_type": "execute_result"
    }
   ],
   "source": [
    "results.head()"
   ]
  },
  {
   "cell_type": "markdown",
   "metadata": {},
   "source": [
    "### Recursive Optimization Flow\n",
    "This flow allows to recursively update parameters  until we reach a solution. \n",
    "The parameters are as follow:\n",
    "- min_target: The minimum number of targets each enumerator is required to visit.\n",
    "- max_target: The maximum number of targets each enumerator is allowed to visit.\n",
    "- max_cost: The  maximum cost assignable to a surveyor to visit a single target.\n",
    "- max_total_cost:  The initial maximum total cost assignable to a surveyor\n",
    "- max_perc: The initial percentile to determine the maximum surveyor-to-target cost (default is 80).\n",
    "- param_increment: The value by which the parameter bounds and percentiles are adjusted during the recursion if no solution is found (default is 5)."
   ]
  },
  {
   "cell_type": "code",
   "execution_count": 6,
   "metadata": {},
   "outputs": [
    {
     "name": "stdout",
     "output_type": "stream",
     "text": [
      "Optimal value:  2244424.350659192\n"
     ]
    }
   ],
   "source": [
    "from optimization.flows import recursive_optimization_flow\n",
    "\n",
    "results_df,params = recursive_optimization_flow(\n",
    "    enum_locations=enum_locations,\n",
    "    target_locations=target_locations,\n",
    "    min_target=15,\n",
    "    max_target=35,\n",
    "    max_distance=10000,\n",
    "    max_total_distance = 100000,\n",
    "    param_increment=5,\n",
    ")"
   ]
  },
  {
   "cell_type": "code",
   "execution_count": 7,
   "metadata": {},
   "outputs": [
    {
     "name": "stdout",
     "output_type": "stream",
     "text": [
      "{'min_target': 15, 'max_target': 35, 'max_cost': 10000, 'max_total_cost': 100000}\n"
     ]
    }
   ],
   "source": [
    "print(params)"
   ]
  },
  {
   "cell_type": "code",
   "execution_count": 8,
   "metadata": {},
   "outputs": [
    {
     "data": {
      "text/html": [
       "<div>\n",
       "<style scoped>\n",
       "    .dataframe tbody tr th:only-of-type {\n",
       "        vertical-align: middle;\n",
       "    }\n",
       "\n",
       "    .dataframe tbody tr th {\n",
       "        vertical-align: top;\n",
       "    }\n",
       "\n",
       "    .dataframe thead th {\n",
       "        text-align: right;\n",
       "    }\n",
       "</style>\n",
       "<table border=\"1\" class=\"dataframe\">\n",
       "  <thead>\n",
       "    <tr style=\"text-align: right;\">\n",
       "      <th></th>\n",
       "      <th>target_id</th>\n",
       "      <th>enum_id</th>\n",
       "      <th>value</th>\n",
       "    </tr>\n",
       "  </thead>\n",
       "  <tbody>\n",
       "    <tr>\n",
       "      <th>0</th>\n",
       "      <td>T0001</td>\n",
       "      <td>E047</td>\n",
       "      <td>1.0</td>\n",
       "    </tr>\n",
       "    <tr>\n",
       "      <th>1</th>\n",
       "      <td>T0002</td>\n",
       "      <td>E063</td>\n",
       "      <td>1.0</td>\n",
       "    </tr>\n",
       "    <tr>\n",
       "      <th>2</th>\n",
       "      <td>T0003</td>\n",
       "      <td>E042</td>\n",
       "      <td>1.0</td>\n",
       "    </tr>\n",
       "    <tr>\n",
       "      <th>3</th>\n",
       "      <td>T0004</td>\n",
       "      <td>E031</td>\n",
       "      <td>1.0</td>\n",
       "    </tr>\n",
       "    <tr>\n",
       "      <th>4</th>\n",
       "      <td>T0005</td>\n",
       "      <td>E035</td>\n",
       "      <td>1.0</td>\n",
       "    </tr>\n",
       "  </tbody>\n",
       "</table>\n",
       "</div>"
      ],
      "text/plain": [
       "  target_id enum_id  value\n",
       "0     T0001    E047    1.0\n",
       "1     T0002    E063    1.0\n",
       "2     T0003    E042    1.0\n",
       "3     T0004    E031    1.0\n",
       "4     T0005    E035    1.0"
      ]
     },
     "execution_count": 8,
     "metadata": {},
     "output_type": "execute_result"
    }
   ],
   "source": [
    "results_df.head()"
   ]
  },
  {
   "cell_type": "markdown",
   "metadata": {},
   "source": [
    "# Min OSRM distance flow\n",
    "\n",
    "\n",
    "## Basic min osrm distance flow\n",
    "\n",
    "We will generate random enumerators and targets data in the state of Tamil Nadu in India"
   ]
  },
  {
   "cell_type": "code",
   "execution_count": 7,
   "metadata": {},
   "outputs": [
    {
     "name": "stdout",
     "output_type": "stream",
     "text": [
      "Enumerators DataFrame shape: (100, 3)\n",
      "Targets DataFrame shape: (2000, 3)\n"
     ]
    }
   ],
   "source": [
    "# Set a random seed for reproducibility\n",
    "np.random.seed(22)\n",
    "# Define the boundaries of Tamil Nadu (approximate)\n",
    "min_lat = 8.087964\n",
    "max_lat = 13.088364\n",
    "min_lon = 76.231978\n",
    "max_lon = 80.346451\n",
    "\n",
    "\n",
    "# Generate 100 enumerators with random latitudes and longitudes\n",
    "enumerator_data = {\n",
    "    \"enum_id\": [f\"E{i+1:03d}\" for i in range(100)],  # Creates IDs like E001, E002, ...\n",
    "    \"enum_lat\": np.random.uniform(min_lat, max_lat, 100), \n",
    "    \"enum_long\": np.random.uniform(min_lon, max_lon, 100), \n",
    "}\n",
    "\n",
    "# Generate 2000 targets with random latitudes and longitudes\n",
    "target_data = {\n",
    "    \"target_id\": [\n",
    "        f\"T{i+1:04d}\" for i in range(2000)\n",
    "    ],  # Creates IDs like T0001, T0002, ...\n",
    "    \"target_lat\": np.random.uniform(min_lat, max_lat, 2000),  \n",
    "    \"target_long\": np.random.uniform(min_lon, max_lon, 2000), \n",
    "}\n",
    "\n",
    "# Create the DataFrames\n",
    "df_enum = pd.DataFrame(enumerator_data)\n",
    "df_target = pd.DataFrame(target_data)\n",
    "\n",
    "# Display the shape of the created DataFrames to confirm the number of rows\n",
    "print(f\"Enumerators DataFrame shape: {df_enum.shape}\")\n",
    "print(f\"Targets DataFrame shape: {df_target.shape}\")"
   ]
  },
  {
   "cell_type": "code",
   "execution_count": null,
   "metadata": {},
   "outputs": [],
   "source": []
  },
  {
   "cell_type": "code",
   "execution_count": 9,
   "metadata": {},
   "outputs": [
    {
     "ename": "NameError",
     "evalue": "name 'enum_locations' is not defined",
     "output_type": "error",
     "traceback": [
      "\u001b[0;31m---------------------------------------------------------------------------\u001b[0m",
      "\u001b[0;31mNameError\u001b[0m                                 Traceback (most recent call last)",
      "Cell \u001b[0;32mIn[9], line 4\u001b[0m\n\u001b[1;32m      1\u001b[0m \u001b[38;5;28;01mfrom\u001b[39;00m \u001b[38;5;21;01moptimization\u001b[39;00m\u001b[38;5;21;01m.\u001b[39;00m\u001b[38;5;21;01mflows\u001b[39;00m \u001b[38;5;28;01mimport\u001b[39;00m basic_min_osrm_distance_flow\n\u001b[1;32m      3\u001b[0m results \u001b[38;5;241m=\u001b[39m basic_min_osrm_distance_flow(\n\u001b[0;32m----> 4\u001b[0m     enum_locations\u001b[38;5;241m=\u001b[39m\u001b[43menum_locations\u001b[49m,\n\u001b[1;32m      5\u001b[0m     target_locations\u001b[38;5;241m=\u001b[39mtarget_locations,\n\u001b[1;32m      6\u001b[0m     min_target\u001b[38;5;241m=\u001b[39m\u001b[38;5;241m5\u001b[39m,\n\u001b[1;32m      7\u001b[0m     max_target\u001b[38;5;241m=\u001b[39m\u001b[38;5;241m30\u001b[39m,\n\u001b[1;32m      8\u001b[0m     max_distance\u001b[38;5;241m=\u001b[39m\u001b[38;5;241m10000\u001b[39m,\n\u001b[1;32m      9\u001b[0m     max_total_distance\u001b[38;5;241m=\u001b[39m\u001b[38;5;241m100000\u001b[39m,\n\u001b[1;32m     10\u001b[0m )\n",
      "\u001b[0;31mNameError\u001b[0m: name 'enum_locations' is not defined"
     ]
    }
   ],
   "source": [
    "from optimization.flows import basic_min_osrm_distance_flow\n",
    "\n",
    "rom optimization.utils import LocationDataset\n",
    "\n",
    "enum_locations = LocationDataset(df_enum, \"enum_id\", \"enum_lat\", \"enum_long\")\n",
    "target_locations = LocationDataset(\n",
    "    df_target, \"target_id\", \"target_lat\", \"target_long\"\n",
    ")\n",
    "results = basic_min_osrm_distance_flow(\n",
    "    enum_locations=enum_locations,\n",
    "    target_locations=target_locations,\n",
    "    min_target=5,\n",
    "    max_target=30,\n",
    "    max_distance=10000,\n",
    "    max_total_distance=100000,\n",
    ")"
   ]
  }
 ],
 "metadata": {
  "kernelspec": {
   "display_name": "surveyscout",
   "language": "python",
   "name": "python3"
  },
  "language_info": {
   "codemirror_mode": {
    "name": "ipython",
    "version": 3
   },
   "file_extension": ".py",
   "mimetype": "text/x-python",
   "name": "python",
   "nbconvert_exporter": "python",
   "pygments_lexer": "ipython3",
   "version": "3.9.18"
  }
 },
 "nbformat": 4,
 "nbformat_minor": 2
}
