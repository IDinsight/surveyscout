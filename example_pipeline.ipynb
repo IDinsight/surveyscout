{
 "cells": [
  {
   "cell_type": "code",
   "execution_count": 3,
   "metadata": {},
   "outputs": [],
   "source": [
    "import numpy as np\n",
    "import pandas as pd\n",
    "from optimization.flows import basic_min_distance_flow,recursive_optimization_flow\n",
    "from optimization.utils import LocationDataset\n",
    "from optimization.tasks.preprocessing import get_enum_target_haversine_matrix"
   ]
  },
  {
   "cell_type": "markdown",
   "metadata": {},
   "source": [
    "This notebook will serve as an example to showcase the different flows we will implement. we will generate a dataset of 100 enumerators and 2000 targets and simulate the optimization."
   ]
  },
  {
   "cell_type": "code",
   "execution_count": 4,
   "metadata": {},
   "outputs": [
    {
     "name": "stdout",
     "output_type": "stream",
     "text": [
      "Enumerators DataFrame shape: (100, 3)\n",
      "Targets DataFrame shape: (2000, 3)\n"
     ]
    }
   ],
   "source": [
    "# Set a random seed for reproducibility\n",
    "np.random.seed(0)\n",
    "\n",
    "# Generate 100 enumerators with random latitudes and longitudes\n",
    "enumerator_data = {\n",
    "    \"enum_id\": [f\"E{i+1:03d}\" for i in range(100)],  # Creates IDs like E001, E002, ...\n",
    "    \"enum_lat\": np.random.uniform(-90, 90, 100),  # Random latitudes\n",
    "    \"enum_long\": np.random.uniform(-180, 180, 100),  # Random longitudes\n",
    "}\n",
    "\n",
    "# Generate 2000 targets with random latitudes and longitudes\n",
    "target_data = {\n",
    "    \"target_id\": [\n",
    "        f\"T{i+1:04d}\" for i in range(2000)\n",
    "    ],  # Creates IDs like T0001, T0002, ...\n",
    "    \"target_lat\": np.random.uniform(-90, 90, 2000),  # Random latitudes\n",
    "    \"target_long\": np.random.uniform(-180, 180, 2000),  # Random longitudes\n",
    "}\n",
    "\n",
    "# Create the DataFrames\n",
    "df_enum = pd.DataFrame(enumerator_data)\n",
    "df_target = pd.DataFrame(target_data)\n",
    "\n",
    "# Display the shape of the created DataFrames to confirm the number of rows\n",
    "print(f\"Enumerators DataFrame shape: {df_enum.shape}\")\n",
    "print(f\"Targets DataFrame shape: {df_target.shape}\")"
   ]
  },
  {
   "cell_type": "code",
   "execution_count": 8,
   "metadata": {},
   "outputs": [],
   "source": [
    "enum_locations = LocationDataset(df_enum, \"enum_id\", \"enum_lat\", \"enum_long\")\n",
    "target_locations = LocationDataset(\n",
    "    df_target, \"target_id\", \"target_lat\", \"target_long\"\n",
    ")"
   ]
  },
  {
   "cell_type": "code",
   "execution_count": null,
   "metadata": {},
   "outputs": [],
   "source": [
    "### Recursive Optimization Flow"
   ]
  },
  {
   "cell_type": "markdown",
   "metadata": {},
   "source": [
    "### Basic min distance flow\n",
    "\n",
    "This flow implements the basic min distance model where we specify our parameters and the model will find the optimal results. We can "
   ]
  },
  {
   "cell_type": "code",
   "execution_count": 13,
   "metadata": {},
   "outputs": [
    {
     "name": "stdout",
     "output_type": "stream",
     "text": [
      "Optimal value:  2151681.973844853\n"
     ]
    }
   ],
   "source": [
    "results = basic_min_distance_flow(\n",
    "    enum_locations, target_locations, 5, 30, 10000, 100000\n",
    ")"
   ]
  },
  {
   "cell_type": "code",
   "execution_count": 15,
   "metadata": {},
   "outputs": [
    {
     "data": {
      "text/plain": [
       "E033    30\n",
       "E075    30\n",
       "E030    30\n",
       "E034    30\n",
       "E096    30\n",
       "        ..\n",
       "E013     6\n",
       "E044     6\n",
       "E036     5\n",
       "E063     5\n",
       "E037     5\n",
       "Name: enum_id, Length: 100, dtype: int64"
      ]
     },
     "execution_count": 15,
     "metadata": {},
     "output_type": "execute_result"
    }
   ],
   "source": [
    "results.enum_id.value_counts()"
   ]
  },
  {
   "cell_type": "markdown",
   "metadata": {},
   "source": [
    "### Recursive Optimization Flow\n",
    "This flow allows to recursively update parameters  until we reach a solution "
   ]
  },
  {
   "cell_type": "code",
   "execution_count": 18,
   "metadata": {},
   "outputs": [
    {
     "name": "stdout",
     "output_type": "stream",
     "text": [
      "Optimal value:  2224792.6671384014\n"
     ]
    }
   ],
   "source": [
    "results = recursive_optimization_flow(\n",
    "    enum_locations,\n",
    "    target_locations,\n",
    "    15,\n",
    "    35,\n",
    "    100000,\n",
    "    max_perc=80,\n",
    "    param_increment=5,\n",
    ")"
   ]
  },
  {
   "cell_type": "code",
   "execution_count": 24,
   "metadata": {},
   "outputs": [
    {
     "name": "stdout",
     "output_type": "stream",
     "text": [
      "Optimal value:  2141851.3676522733\n"
     ]
    }
   ],
   "source": [
    "from optimization.flows import recursive_optimization_flow\n",
    "\n",
    "results_df,params = recursive_optimization_flow(enum_locations,target_locations, 10, 300, 2000000, 80, 5)"
   ]
  },
  {
   "cell_type": "code",
   "execution_count": 25,
   "metadata": {},
   "outputs": [
    {
     "name": "stdout",
     "output_type": "stream",
     "text": [
      "{'min_target': 10, 'max_target': 300, 'max_distance': 14622.904056572592, 'max_total_distance': 2000000}\n"
     ]
    }
   ],
   "source": [
    "print(params)"
   ]
  },
  {
   "cell_type": "code",
   "execution_count": 26,
   "metadata": {},
   "outputs": [
    {
     "data": {
      "text/plain": [
       "E095    48\n",
       "E075    45\n",
       "E051    42\n",
       "E099    38\n",
       "E053    37\n",
       "        ..\n",
       "E062    10\n",
       "E014    10\n",
       "E013    10\n",
       "E082    10\n",
       "E046    10\n",
       "Name: enum_id, Length: 100, dtype: int64"
      ]
     },
     "execution_count": 26,
     "metadata": {},
     "output_type": "execute_result"
    }
   ],
   "source": [
    "\n",
    "results_df.enum_id.value_counts()"
   ]
  }
 ],
 "metadata": {
  "kernelspec": {
   "display_name": "surveysparrow",
   "language": "python",
   "name": "python3"
  },
  "language_info": {
   "codemirror_mode": {
    "name": "ipython",
    "version": 3
   },
   "file_extension": ".py",
   "mimetype": "text/x-python",
   "name": "python",
   "nbconvert_exporter": "python",
   "pygments_lexer": "ipython3",
   "version": "3.9.18"
  }
 },
 "nbformat": 4,
 "nbformat_minor": 2
}
